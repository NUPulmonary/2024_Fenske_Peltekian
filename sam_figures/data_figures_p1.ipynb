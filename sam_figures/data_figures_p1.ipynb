{
 "cells": [
  {
   "cell_type": "code",
   "execution_count": 2,
   "id": "584a070e",
   "metadata": {},
   "outputs": [],
   "source": [
    "import os\n",
    "import warnings\n",
    "warnings.filterwarnings(\"ignore\")\n",
    "import pandas as pd\n",
    "pd.set_option('display.max_columns', None)\n",
    "import numpy as np\n",
    "import matplotlib.pyplot as plt\n",
    "import seaborn as sns\n",
    "import datetime"
   ]
  },
  {
   "cell_type": "markdown",
   "id": "de494641",
   "metadata": {},
   "source": [
    "## Check values for all numbers (excluding performance metrics) used in the paper"
   ]
  },
  {
   "cell_type": "markdown",
   "id": "6a56f150",
   "metadata": {},
   "source": [
    "### SCRIPT train/val/test"
   ]
  },
  {
   "cell_type": "markdown",
   "id": "6f72e2b0",
   "metadata": {},
   "source": [
    "Raw data"
   ]
  },
  {
   "cell_type": "code",
   "execution_count": 14,
   "id": "c24bb783-904a-45fd-beae-6da7e72a43d1",
   "metadata": {},
   "outputs": [],
   "source": [
    "EDW_DIR = '../../../CarpeDiem Extubation Prediction Sam Alec/data/edw_redacted'"
   ]
  },
  {
   "cell_type": "code",
   "execution_count": 15,
   "id": "8e1b5f31-407b-44da-b448-fbe6e610fc2d",
   "metadata": {},
   "outputs": [],
   "source": [
    "edw_raw = pd.read_csv(f'{EDW_DIR}/edw_full_annotated.csv',index_col=0)"
   ]
  },
  {
   "cell_type": "code",
   "execution_count": 16,
   "id": "48a7e804-5ba8-424d-b466-e11f8d224336",
   "metadata": {},
   "outputs": [
    {
     "data": {
      "text/plain": [
       "16402"
      ]
     },
     "execution_count": 16,
     "metadata": {},
     "output_type": "execute_result"
    }
   ],
   "source": [
    "len(edw_raw)"
   ]
  },
  {
   "cell_type": "code",
   "execution_count": 17,
   "id": "77a9f83b",
   "metadata": {},
   "outputs": [
    {
     "name": "stdout",
     "output_type": "stream",
     "text": [
      "Unfiltered stats\n",
      "Number of ICU days: 16402\n",
      "Number of patients: 712\n",
      "Number of ICU stays: 940\n"
     ]
    }
   ],
   "source": [
    "print(\"Unfiltered stats\")\n",
    "print(f\"Number of ICU days: {len(edw_raw)}\")\n",
    "print(f\"Number of patients: {edw_raw.pt_study_id.nunique()}\")\n",
    "print(f\"Number of ICU stays: {edw_raw.Patient_id_2.nunique()}\")"
   ]
  },
  {
   "cell_type": "code",
   "execution_count": 18,
   "id": "01bf2b7f",
   "metadata": {},
   "outputs": [
    {
     "data": {
      "text/plain": [
       "extubation_status\n",
       "intubated              12333\n",
       "preintubated            1892\n",
       "extubated               1516\n",
       "dni transplant           362\n",
       "failed                   125\n",
       "dni                      109\n",
       "same-day fail             40\n",
       "suspected dni             13\n",
       "ECMO non-successful        9\n",
       "early extubation           3\n",
       "Name: count, dtype: int64"
      ]
     },
     "execution_count": 18,
     "metadata": {},
     "output_type": "execute_result"
    }
   ],
   "source": [
    "edw_raw.extubation_status.value_counts()"
   ]
  },
  {
   "cell_type": "markdown",
   "id": "5631ea16",
   "metadata": {},
   "source": [
    "Get latest data point"
   ]
  },
  {
   "cell_type": "markdown",
   "id": "4651ee7f",
   "metadata": {},
   "source": [
    "Trimmed data as presented to models"
   ]
  },
  {
   "cell_type": "code",
   "execution_count": 21,
   "id": "1c7b0e9b",
   "metadata": {},
   "outputs": [],
   "source": [
    "auto_train = pd.read_csv(f'{EDW_DIR}/train.csv')\n",
    "auto_val = pd.read_csv(f'{EDW_DIR}/val.csv')\n",
    "auto_test = pd.read_csv(f'{EDW_DIR}/test.csv')\n",
    "auto_fail = pd.read_csv(f'{EDW_DIR}/fail.csv')\n",
    "auto_trach = pd.read_csv(f'{EDW_DIR}/trach.csv')"
   ]
  },
  {
   "cell_type": "code",
   "execution_count": 22,
   "id": "9f152f95",
   "metadata": {},
   "outputs": [],
   "source": [
    "auto_train['dataset'] = 'train'\n",
    "auto_val['dataset'] = 'val'\n",
    "auto_test['dataset'] = 'test'\n",
    "auto_fail['dataset'] = 'fail'\n",
    "auto_trach['dataset'] = 'trach'\n",
    "\n",
    "all_auto = pd.concat([auto_train,auto_val,auto_test,auto_fail,auto_trach])"
   ]
  },
  {
   "cell_type": "code",
   "execution_count": 23,
   "id": "876262a0-3511-4a6b-af05-4e5714e906eb",
   "metadata": {},
   "outputs": [],
   "source": [
    "all_auto['pt_study_id'] = [x.split('/')[0] for x in all_auto.Patient_id_2]"
   ]
  },
  {
   "cell_type": "code",
   "execution_count": 24,
   "id": "1767d639",
   "metadata": {},
   "outputs": [
    {
     "name": "stdout",
     "output_type": "stream",
     "text": [
      "Filtered stats\n",
      "Number of ICU days: 9828\n",
      "Number of patients: 696\n",
      "Number of ICU stays: 781\n"
     ]
    }
   ],
   "source": [
    "print(\"Filtered stats\")\n",
    "print(f\"Number of ICU days: {len(all_auto)}\")\n",
    "print(f\"Number of patients: {all_auto.pt_study_id.nunique()}\")\n",
    "print(f\"Number of ICU stays: {all_auto.Patient_id_2.nunique()}\")"
   ]
  },
  {
   "cell_type": "markdown",
   "id": "49bb93d5",
   "metadata": {},
   "source": [
    "## CDH"
   ]
  },
  {
   "cell_type": "markdown",
   "id": "4aa1bc2d",
   "metadata": {},
   "source": [
    "Unfiltered"
   ]
  },
  {
   "cell_type": "code",
   "execution_count": 25,
   "id": "72589d66-ab90-4f45-a003-cd3c52ffe9e6",
   "metadata": {},
   "outputs": [],
   "source": [
    "CDH_DIR = '../../../CarpeDiem Extubation Prediction Sam Alec/data/cdh_redacted'"
   ]
  },
  {
   "cell_type": "code",
   "execution_count": 26,
   "id": "41aae125",
   "metadata": {},
   "outputs": [],
   "source": [
    "cdh_raw = pd.read_csv(f'{CDH_DIR}/cdh_full_annotated.csv',index_col=0)"
   ]
  },
  {
   "cell_type": "code",
   "execution_count": 27,
   "id": "23205d16",
   "metadata": {},
   "outputs": [
    {
     "data": {
      "text/plain": [
       "(5814, 55)"
      ]
     },
     "execution_count": 27,
     "metadata": {},
     "output_type": "execute_result"
    }
   ],
   "source": [
    "cdh_raw.shape"
   ]
  },
  {
   "cell_type": "code",
   "execution_count": 28,
   "id": "08f0a6f1-b100-4867-8983-c81338fc20d5",
   "metadata": {},
   "outputs": [
    {
     "data": {
      "text/plain": [
       "extubation_status\n",
       "intubated           4158\n",
       "preintubated         787\n",
       "extubated            778\n",
       "failed                36\n",
       "suspected dni         35\n",
       "same-day fail         13\n",
       "early extubation       6\n",
       "early intubation       1\n",
       "Name: count, dtype: int64"
      ]
     },
     "execution_count": 28,
     "metadata": {},
     "output_type": "execute_result"
    }
   ],
   "source": [
    "cdh_raw.extubation_status.value_counts()"
   ]
  },
  {
   "cell_type": "code",
   "execution_count": 29,
   "id": "a5e99ee7",
   "metadata": {},
   "outputs": [
    {
     "name": "stdout",
     "output_type": "stream",
     "text": [
      "Unfiltered stats\n",
      "Number of ICU days: 5814\n",
      "Number of patients: 459\n",
      "Number of ICU stays: 518\n"
     ]
    }
   ],
   "source": [
    "print(\"Unfiltered stats\")\n",
    "print(f\"Number of ICU days: {len(cdh_raw)}\")\n",
    "print(f\"Number of patients: {cdh_raw.visit_key.nunique()}\")\n",
    "print(f\"Number of ICU stays: {cdh_raw.Patient_id_2.nunique()}\")"
   ]
  },
  {
   "cell_type": "markdown",
   "id": "665d771a",
   "metadata": {},
   "source": [
    "Trimmed data as presented to models"
   ]
  },
  {
   "cell_type": "code",
   "execution_count": 30,
   "id": "d2098db2",
   "metadata": {},
   "outputs": [],
   "source": [
    "cdh_full = pd.read_csv(f\"{CDH_DIR}/full.csv\",index_col=0)\n",
    "cdh_fail = pd.read_csv(f\"{CDH_DIR}/fail.csv\",index_col=0)\n",
    "cdh_trach = pd.read_csv(f\"{CDH_DIR}/trach.csv\",index_col=0)"
   ]
  },
  {
   "cell_type": "code",
   "execution_count": 31,
   "id": "f9cb53cf-1a04-4f6e-bce2-28b5c06b2711",
   "metadata": {},
   "outputs": [],
   "source": [
    "cdh_full['Patient_id'] = [x.split('/')[0] for x in cdh_full.Patient_id_2]"
   ]
  },
  {
   "cell_type": "code",
   "execution_count": 32,
   "id": "9e147455",
   "metadata": {},
   "outputs": [
    {
     "name": "stdout",
     "output_type": "stream",
     "text": [
      "Filtered stats\n",
      "Number of ICU days: 2835\n",
      "Number of patients: 333\n",
      "Number of ICU stays: 349\n"
     ]
    }
   ],
   "source": [
    "print(\"Filtered stats\")\n",
    "print(f\"Number of ICU days: {len(cdh_full)}\")\n",
    "print(f\"Number of patients: {cdh_full.Patient_id.nunique()}\")\n",
    "print(f\"Number of ICU stays: {cdh_full.Patient_id_2.nunique()}\")"
   ]
  },
  {
   "cell_type": "markdown",
   "id": "fd20ab24",
   "metadata": {},
   "source": [
    "## Get fail rate in both SCRIPT and CDH datasets"
   ]
  },
  {
   "cell_type": "markdown",
   "id": "37e0354e",
   "metadata": {},
   "source": [
    "Need to get the SCRIPT dataset that's properly labelled with next-day extubation status"
   ]
  },
  {
   "cell_type": "code",
   "execution_count": 33,
   "id": "bcb9b580",
   "metadata": {},
   "outputs": [],
   "source": [
    "edw_list = []\n",
    "\n",
    "for patient in edw_raw['Patient_id_2'].unique():\n",
    "    sub = edw_raw[edw_raw['Patient_id_2'] == patient]\n",
    "    labels = list(sub['Intubation_flag'][1:])\n",
    "    next_day_ext_status = list(sub['extubation_status'][1:])\n",
    "    features = sub.iloc[:-1,:]\n",
    "    features['labels'] = labels\n",
    "    features['next_day_extubation_status'] = next_day_ext_status\n",
    "    edw_list.append(features)\n",
    "\n",
    "edw_next_day = pd.concat(edw_list, ignore_index=False)"
   ]
  },
  {
   "cell_type": "code",
   "execution_count": 34,
   "id": "42f7fb5d",
   "metadata": {},
   "outputs": [
    {
     "data": {
      "text/plain": [
       "next_day_extubation_status\n",
       "intubated              12185\n",
       "extubated               1516\n",
       "preintubated            1104\n",
       "dni transplant           358\n",
       "failed                   125\n",
       "dni                      109\n",
       "same-day fail             40\n",
       "suspected dni             13\n",
       "ECMO non-successful        9\n",
       "early extubation           3\n",
       "Name: count, dtype: int64"
      ]
     },
     "execution_count": 34,
     "metadata": {},
     "output_type": "execute_result"
    }
   ],
   "source": [
    "edw_next_day.next_day_extubation_status.value_counts(dropna=False)"
   ]
  },
  {
   "cell_type": "code",
   "execution_count": 35,
   "id": "d7193d45",
   "metadata": {},
   "outputs": [],
   "source": [
    "def fail_rate(df,flag_col='Intubation_flag'):\n",
    "    cts = df[(df[flag_col] == 1) & (df.labels == 0)].next_day_extubation_status.value_counts()\n",
    "    fails = np.sum(cts[cts.index.isin(['failed','same-day fail'])].values)\n",
    "    extub = np.sum(cts[cts.index.isin(['extubated','early extubation'])].values)\n",
    "    print(f\"{fails}/{fails+extub} fails --> {100 * fails/(fails+extub)}%\")\n",
    "    return"
   ]
  },
  {
   "cell_type": "code",
   "execution_count": 36,
   "id": "bf5b7a5f",
   "metadata": {},
   "outputs": [
    {
     "name": "stdout",
     "output_type": "stream",
     "text": [
      "139/603 fails --> 23.051409618573796%\n"
     ]
    }
   ],
   "source": [
    "fail_rate(edw_next_day)"
   ]
  },
  {
   "cell_type": "markdown",
   "id": "6dcbf641",
   "metadata": {},
   "source": [
    "CDH"
   ]
  },
  {
   "cell_type": "code",
   "execution_count": 37,
   "id": "b7f37487",
   "metadata": {},
   "outputs": [],
   "source": [
    "cdh_list = []\n",
    "\n",
    "for patient in cdh_raw['Patient_id_2'].unique():\n",
    "    sub = cdh_raw[cdh_raw['Patient_id_2'] == patient]\n",
    "    labels = list(sub['Intubation_flag'][1:])\n",
    "    next_day_ext_status = list(sub['extubation_status'][1:])\n",
    "    features = sub.iloc[:-1,:]\n",
    "    features['labels'] = labels\n",
    "    features['next_day_extubation_status'] = next_day_ext_status\n",
    "    cdh_list.append(features)\n",
    "\n",
    "cdh_next_day = pd.concat(cdh_list, ignore_index=False)"
   ]
  },
  {
   "cell_type": "code",
   "execution_count": 38,
   "id": "218dfdc9",
   "metadata": {},
   "outputs": [
    {
     "data": {
      "text/plain": [
       "next_day_extubation_status\n",
       "intubated           3938\n",
       "extubated            778\n",
       "preintubated         489\n",
       "failed                36\n",
       "suspected dni         35\n",
       "same-day fail         13\n",
       "early extubation       6\n",
       "early intubation       1\n",
       "Name: count, dtype: int64"
      ]
     },
     "execution_count": 38,
     "metadata": {},
     "output_type": "execute_result"
    }
   ],
   "source": [
    "cdh_next_day.next_day_extubation_status.value_counts(dropna=False)"
   ]
  },
  {
   "cell_type": "code",
   "execution_count": 39,
   "id": "c209a398",
   "metadata": {},
   "outputs": [
    {
     "name": "stdout",
     "output_type": "stream",
     "text": [
      "41/260 fails --> 15.76923076923077%\n"
     ]
    }
   ],
   "source": [
    "fail_rate(cdh_next_day)"
   ]
  },
  {
   "cell_type": "markdown",
   "id": "c641e0e3",
   "metadata": {},
   "source": [
    "## Breakdown of days"
   ]
  },
  {
   "cell_type": "code",
   "execution_count": 40,
   "id": "1c0b7aea",
   "metadata": {},
   "outputs": [],
   "source": [
    "cdh_raw['dataset'] = 'CDH'\n",
    "edw_raw['dataset'] = 'SCRIPT'"
   ]
  },
  {
   "cell_type": "code",
   "execution_count": 41,
   "id": "7b125430",
   "metadata": {},
   "outputs": [],
   "source": [
    "combined = pd.concat([cdh_raw,edw_raw])"
   ]
  },
  {
   "cell_type": "code",
   "execution_count": 42,
   "id": "015abf57",
   "metadata": {},
   "outputs": [
    {
     "data": {
      "text/plain": [
       "extubation_status\n",
       "intubated              16491\n",
       "preintubated            2679\n",
       "extubated               2294\n",
       "dni transplant           362\n",
       "failed                   161\n",
       "dni                      109\n",
       "same-day fail             53\n",
       "suspected dni             48\n",
       "early extubation           9\n",
       "ECMO non-successful        9\n",
       "early intubation           1\n",
       "Name: count, dtype: int64"
      ]
     },
     "execution_count": 42,
     "metadata": {},
     "output_type": "execute_result"
    }
   ],
   "source": [
    "combined.extubation_status.value_counts()"
   ]
  },
  {
   "cell_type": "code",
   "execution_count": 43,
   "id": "23895248",
   "metadata": {},
   "outputs": [],
   "source": [
    "merge_extub = {\n",
    "    'dni':'CMO',\n",
    "    'suspected dni':'CMO',\n",
    "    'ECMO non-successful':'CMO',\n",
    "    'failed':'fail',\n",
    "    'same-day fail':'fail',\n",
    "    'early intubation':'preintubated',\n",
    "    'early extubation':'extubated'\n",
    "}\n",
    "\n",
    "combined['new_extubation_status'] = [merge_extub[x] if x in merge_extub.keys() else x for x in combined.extubation_status]"
   ]
  },
  {
   "cell_type": "code",
   "execution_count": 44,
   "id": "194dbfc7",
   "metadata": {},
   "outputs": [
    {
     "data": {
      "text/plain": [
       "new_extubation_status\n",
       "intubated         16491\n",
       "preintubated       2680\n",
       "extubated          2303\n",
       "dni transplant      362\n",
       "fail                214\n",
       "CMO                 166\n",
       "Name: count, dtype: int64"
      ]
     },
     "execution_count": 44,
     "metadata": {},
     "output_type": "execute_result"
    }
   ],
   "source": [
    "combined['new_extubation_status'].value_counts()"
   ]
  },
  {
   "cell_type": "code",
   "execution_count": 45,
   "id": "727e59ca",
   "metadata": {},
   "outputs": [],
   "source": [
    "def dataset_breakdown(patient):\n",
    "    if patient in list(edw_raw.Patient_id_2):\n",
    "        if patient in list(auto_train.Patient_id_2):\n",
    "            return \"SCRIPT train\"\n",
    "        elif patient in list(auto_val.Patient_id_2):\n",
    "            return \"SCRIPT val\"\n",
    "        elif patient in list(auto_test.Patient_id_2):\n",
    "            return \"SCRIPT test\"\n",
    "        elif patient in list(auto_fail.Patient_id_2):\n",
    "            return \"SCRIPT fail\"\n",
    "        elif patient in list(auto_trach.Patient_id_2):\n",
    "            return \"SCRIPT trach\"\n",
    "        else:\n",
    "            return \"SCRIPT filtered\"\n",
    "    elif patient in list(cdh_raw.Patient_id_2):\n",
    "        if patient in list(cdh_full.Patient_id_2):\n",
    "            return 'CDH eval'\n",
    "        elif patient in list(cdh_fail.Patient_id_2):\n",
    "            return 'CDH fail'\n",
    "        elif patient in list(cdh_trach.Patient_id_2):\n",
    "            return 'CDH trach'\n",
    "        else:\n",
    "            return 'CDH filtered'\n",
    "    else:\n",
    "        print(f\"missing {patient}\")\n",
    "        return"
   ]
  },
  {
   "cell_type": "code",
   "execution_count": 46,
   "id": "8fab0868",
   "metadata": {},
   "outputs": [],
   "source": [
    "combined['dataset_2'] = [dataset_breakdown(p) for p in combined.Patient_id_2]"
   ]
  },
  {
   "cell_type": "code",
   "execution_count": 47,
   "id": "fc94efed",
   "metadata": {},
   "outputs": [
    {
     "data": {
      "text/plain": [
       "dataset_2\n",
       "CDH eval           349\n",
       "SCRIPT train       305\n",
       "SCRIPT trach       253\n",
       "SCRIPT filtered    159\n",
       "CDH filtered       106\n",
       "SCRIPT test         97\n",
       "SCRIPT val          76\n",
       "SCRIPT fail         50\n",
       "CDH trach           33\n",
       "CDH fail            30\n",
       "Name: count, dtype: int64"
      ]
     },
     "execution_count": 47,
     "metadata": {},
     "output_type": "execute_result"
    }
   ],
   "source": [
    "combined.drop_duplicates(subset='Patient_id_2')['dataset_2'].value_counts(dropna=False)"
   ]
  },
  {
   "cell_type": "code",
   "execution_count": 48,
   "id": "0065497e-b8b3-446e-8a04-fc61b272aead",
   "metadata": {},
   "outputs": [],
   "source": [
    "FIGURES_DIR = '../results'"
   ]
  },
  {
   "cell_type": "code",
   "execution_count": 50,
   "id": "ee93b307",
   "metadata": {},
   "outputs": [
    {
     "data": {
      "image/png": "[encoded data removed]",
      "text/plain": [
       "<Figure size 640x480 with 1 Axes>"
      ]
     },
     "metadata": {},
     "output_type": "display_data"
    }
   ],
   "source": [
    "source_order = ['SCRIPT train','SCRIPT val','SCRIPT test','SCRIPT fail','SCRIPT trach','SCRIPT filtered',\n",
    "               'CDH eval','CDH fail','CDH trach','CDH filtered']\n",
    "ax = sns.countplot(data=combined,x='new_extubation_status',hue='dataset_2',hue_order=source_order)\n",
    "plt.xticks(rotation=90)\n",
    "\n",
    "for container in ax.containers:\n",
    "    ax.bar_label(container,fontsize=2.8)\n",
    "plt.xlabel('Extubation status')\n",
    "plt.ylabel('Count')\n",
    "plt.title('Breakdown of extubation status of all ICU days')\n",
    "plt.legend(title='Dataset category',loc='upper right')\n",
    "plt.tight_layout()\n",
    "plt.savefig(f'{FIGURES_DIR}/ICU_day_breakdown_new.pdf')\n",
    "plt.show()"
   ]
  },
  {
   "cell_type": "markdown",
   "id": "ed4d5070",
   "metadata": {},
   "source": [
    "## Histogram of extubation times"
   ]
  },
  {
   "cell_type": "code",
   "execution_count": 3,
   "id": "68495c73",
   "metadata": {},
   "outputs": [],
   "source": [
    "intubs = pd.read_csv(intubs_path)"
   ]
  },
  {
   "cell_type": "code",
   "execution_count": 4,
   "id": "70691efa",
   "metadata": {},
   "outputs": [],
   "source": [
    "intubs.RECORDED_TIME = pd.to_datetime(intubs.RECORDED_TIME)\n",
    "intubs = intubs.sort_values(['pt_study_id', 'RECORDED_TIME', 'MEAS_VALUE'])"
   ]
  },
  {
   "cell_type": "code",
   "execution_count": 5,
   "id": "bde2dc8f",
   "metadata": {},
   "outputs": [],
   "source": [
    "first_check = ((intubs.DISP_NAME == 'Extubation') & (intubs.MEAS_VALUE == 'Yes'))\n",
    "second_check = (intubs.DISP_NAME == 'Vent D/C')\n",
    "\n",
    "ext = intubs.loc[first_check | second_check].drop_duplicates(subset=['pt_study_id','RECORDED_TIME'])"
   ]
  },
  {
   "cell_type": "code",
   "execution_count": 6,
   "id": "e78bc7a9",
   "metadata": {},
   "outputs": [],
   "source": [
    "times = pd.DatetimeIndex(ext.RECORDED_TIME.values)\n",
    "ext['recorded_time_plot'] = [x.time() for x in times]\n",
    "\n",
    "# Convert time objects to minutes since midnight\n",
    "ext['time_of_day'] = ext['recorded_time_plot'].apply(lambda t: t.hour * 60 + t.minute)"
   ]
  },
  {
   "cell_type": "code",
   "execution_count": 13,
   "id": "2cf80b63",
   "metadata": {},
   "outputs": [
    {
     "data": {
      "image/png": "[encoded data removed]",
      "text/plain": [
       "<Figure size 640x480 with 1 Axes>"
      ]
     },
     "metadata": {},
     "output_type": "display_data"
    }
   ],
   "source": [
    "bin_edges = range(0, 24*60 + 1, 60)\n",
    "plt.hist(ext['time_of_day'], bins=bin_edges, edgecolor='black')\n",
    "plt.xlabel('Time of Day')\n",
    "plt.ylabel('Frequency')\n",
    "plt.title('Histogram of all Extubation Times')\n",
    "plt.xticks(range(0, 24*60, 60), [f'{h:02d}:00' for h in range(24)], rotation=45)\n",
    "plt.tight_layout()\n",
    "plt.savefig(f'{FIGURES_DIR}/extubation_times.pdf')\n",
    "plt.show()"
   ]
  },
  {
   "cell_type": "code",
   "execution_count": 9,
   "id": "67940aef",
   "metadata": {},
   "outputs": [],
   "source": [
    "before_8am = ext[ext.time_of_day < 480].sort_values(by='recorded_time_plot')"
   ]
  },
  {
   "cell_type": "code",
   "execution_count": 10,
   "id": "2862382f",
   "metadata": {},
   "outputs": [
    {
     "data": {
      "text/plain": [
       "0.023060796645702306"
      ]
     },
     "execution_count": 10,
     "metadata": {},
     "output_type": "execute_result"
    }
   ],
   "source": [
    "len(before_8am)/len(ext)"
   ]
  },
  {
   "cell_type": "code",
   "execution_count": null,
   "id": "c589d6a3",
   "metadata": {},
   "outputs": [],
   "source": []
  }
 ],
 "metadata": {
  "kernelspec": {
   "display_name": "x2b8_venv",
   "language": "python",
   "name": "x2b8_venv"
  },
  "language_info": {
   "codemirror_mode": {
    "name": "ipython",
    "version": 3
   },
   "file_extension": ".py",
   "mimetype": "text/x-python",
   "name": "python",
   "nbconvert_exporter": "python",
   "pygments_lexer": "ipython3",
   "version": "3.10.6"
  }
 },
 "nbformat": 4,
 "nbformat_minor": 5
}
