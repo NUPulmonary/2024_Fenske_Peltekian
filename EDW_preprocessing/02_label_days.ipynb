{
 "cells": [
  {
   "cell_type": "code",
   "execution_count": 1,
   "id": "5066970d",
   "metadata": {},
   "outputs": [],
   "source": [
    "import os\n",
    "import warnings\n",
    "warnings.filterwarnings(\"ignore\")\n",
    "import pandas as pd\n",
    "pd.set_option('display.max_columns', None)\n",
    "import numpy as np\n",
    "import matplotlib.pyplot as plt\n",
    "import seaborn as sns\n",
    "import datetime"
   ]
  },
  {
   "cell_type": "code",
   "execution_count": 2,
   "id": "c01f17e6-94a9-43da-aab0-01c9ab977120",
   "metadata": {},
   "outputs": [],
   "source": [
    "DATA_DIR = '../../../CarpeDiem Extubation Prediction Sam Alec/data'"
   ]
  },
  {
   "cell_type": "markdown",
   "id": "bd4e45af-1a80-4f04-bc1f-91aefd0c1e10",
   "metadata": {},
   "source": [
    "## Read in O2 device report and current formatted EDW dataset"
   ]
  },
  {
   "cell_type": "code",
   "execution_count": 4,
   "id": "459209e3-f7cf-454f-a6de-70c811e8edb1",
   "metadata": {},
   "outputs": [],
   "source": [
    "edw = pd.read_csv(f'{DATA_DIR}/{edw_path}')\n",
    "edw['calendar_day'] = [np.datetime64(rt, 'D') for rt in edw.day_bucket_starts]\n",
    "edw['patient_calendar_day'] = [str(r.pt_study_id) + str(r.calendar_day) for i,r in edw.iterrows()]"
   ]
  },
  {
   "cell_type": "code",
   "execution_count": 5,
   "id": "4889c990-a555-4370-a071-21d0c7f7a7da",
   "metadata": {},
   "outputs": [],
   "source": [
    "binary_map = {1:'intubated',0:'extubated'}\n",
    "edw['extubation_status'] = edw['Intubation_flag'].map(binary_map)"
   ]
  },
  {
   "cell_type": "code",
   "execution_count": 7,
   "id": "3675d230-ad70-4362-9563-4e8217f815d4",
   "metadata": {},
   "outputs": [],
   "source": [
    "o2 = pd.read_csv(f'{o2_path}')\n",
    "o2['RECORDED_TIME'] = pd.to_datetime(o2['RECORDED_TIME'])\n",
    "o2['calendar_day'] = [np.datetime64(rt, 'D') for rt in o2.RECORDED_TIME]\n",
    "o2['patient_calendar_day'] = [str(r.pt_study_id) + str(r.calendar_day) for i,r in o2.iterrows()]\n",
    "o2['time_of_day'] = [x.astype('datetime64[s]').astype(object).time() for x in o2.RECORDED_TIME.values]"
   ]
  },
  {
   "cell_type": "code",
   "execution_count": 8,
   "id": "6e009a3c-d932-4ddb-b81e-25c3be837284",
   "metadata": {},
   "outputs": [],
   "source": [
    "calendar_day_map = {\n",
    "    r.patient_calendar_day:r.patient_day for i,r in edw.iterrows()\n",
    "}\n",
    "o2['patient_day'] = o2['patient_calendar_day'].map(calendar_day_map)"
   ]
  },
  {
   "cell_type": "code",
   "execution_count": 9,
   "id": "c8ddb00a-9902-4279-abf2-813c0fb8182c",
   "metadata": {},
   "outputs": [],
   "source": [
    "new_status_dict = {\n",
    "    r.patient_day:r.extubation_status for i,r in edw.iterrows()\n",
    "}\n",
    "o2['extubation_status'] = o2['patient_day'].map(new_status_dict)"
   ]
  },
  {
   "cell_type": "code",
   "execution_count": 10,
   "id": "af1323a9-a66f-4651-9c88-71d46a3ccb6d",
   "metadata": {},
   "outputs": [
    {
     "data": {
      "text/plain": [
       "Intubation_flag  extubation_status\n",
       "1                intubated            11564\n",
       "0                extubated             4841\n",
       "Name: count, dtype: int64"
      ]
     },
     "execution_count": 10,
     "metadata": {},
     "output_type": "execute_result"
    }
   ],
   "source": [
    "edw[['Intubation_flag','extubation_status']].value_counts()"
   ]
  },
  {
   "cell_type": "markdown",
   "id": "87ea92ea-5161-46b0-b177-012501d01436",
   "metadata": {},
   "source": [
    "## Check for intubated days that are mis-annotated\n",
    "Check for extubation events on intubated days"
   ]
  },
  {
   "cell_type": "code",
   "execution_count": 12,
   "id": "26979ab4-a76f-487d-886d-826340db3213",
   "metadata": {},
   "outputs": [],
   "source": [
    "def check_extubation(sub):\n",
    "    extub_yes = ((sub.DISP_NAME == \"Extubation\") & (sub.MEAS_VALUE == \"Yes\"))\n",
    "    vent_dc = ((sub.DISP_NAME == 'Vent D/C') | (sub.DISP_NAME == 'Vent D/C Time'))\n",
    "\n",
    "    return np.any(extub_yes | vent_dc)"
   ]
  },
  {
   "cell_type": "code",
   "execution_count": 13,
   "id": "84adc9da-1277-4aa1-92d4-cf0b3d2031a1",
   "metadata": {},
   "outputs": [],
   "source": [
    "flag_extub = []\n",
    "intub_days = edw[edw.Intubation_flag == 1].patient_calendar_day.unique()\n",
    "for day in intub_days:\n",
    "    sub = o2[\n",
    "        (o2.patient_calendar_day == day) & (o2['time_of_day'] < datetime.time(8, 0))\n",
    "    ]\n",
    "    if check_extubation(sub):\n",
    "        flag_extub.append(day)"
   ]
  },
  {
   "cell_type": "code",
   "execution_count": 14,
   "id": "5cb8c834-fe6e-4243-a73a-842b8f4abe39",
   "metadata": {},
   "outputs": [
    {
     "data": {
      "text/plain": [
       "4"
      ]
     },
     "execution_count": 14,
     "metadata": {},
     "output_type": "execute_result"
    }
   ],
   "source": [
    "len(flag_extub)"
   ]
  },
  {
   "cell_type": "markdown",
   "id": "2f0e84a8-0a97-4c3e-ba55-a67509ae246a",
   "metadata": {},
   "source": [
    "Check"
   ]
  },
  {
   "cell_type": "code",
   "execution_count": 15,
   "id": "ecba8f03-7886-4bef-825d-84e7888eabf0",
   "metadata": {},
   "outputs": [],
   "source": [
    "# o2[o2.patient_calendar_day == flag_extub[3]]"
   ]
  },
  {
   "cell_type": "code",
   "execution_count": 16,
   "id": "602a88a7-db19-4138-b7c7-41d918d208b1",
   "metadata": {},
   "outputs": [],
   "source": [
    "edw.loc[edw.patient_calendar_day.isin(flag_extub),'extubation_status'] = 'early extubation'"
   ]
  },
  {
   "cell_type": "code",
   "execution_count": 17,
   "id": "21747fcd-2f8a-416d-afb5-a4f7685dc7b3",
   "metadata": {},
   "outputs": [],
   "source": [
    "o2.loc[o2.patient_calendar_day.isin(flag_extub),'extubation_status'] = 'early extubation'"
   ]
  },
  {
   "cell_type": "markdown",
   "id": "791c0cbc-9494-478b-8fcc-929eebbe9ba9",
   "metadata": {},
   "source": [
    "## Check for extubated days that are mis-annotated"
   ]
  },
  {
   "cell_type": "code",
   "execution_count": 18,
   "id": "a1cb870c-186d-4ccb-9324-106d42022ef7",
   "metadata": {},
   "outputs": [],
   "source": [
    "# either all ventilation, or at least three signs of ventilation\n",
    "def check_intubation(sub):\n",
    "    # keep simple\n",
    "    if len(sub) > 0:\n",
    "        vent_display = ((sub.DISP_NAME == 'O2 Device') & (sub.MEAS_VALUE == 'Ventilator'))\n",
    "        vent_yes = (sub.DISP_NAME == 'Ventilator')\n",
    "        if np.all(vent_display | vent_yes):\n",
    "            return True\n",
    "        else:\n",
    "            cts = np.where(vent_display | vent_yes)[0]\n",
    "            return len(cts) >= 3"
   ]
  },
  {
   "cell_type": "code",
   "execution_count": 19,
   "id": "acf01093-90fe-4d1c-ab73-4b0f1d46ffca",
   "metadata": {},
   "outputs": [],
   "source": [
    "flag_intub = []\n",
    "extub_days = edw[edw.Intubation_flag == 0].patient_calendar_day.unique()\n",
    "for day in extub_days:\n",
    "    sub = o2[\n",
    "        (o2.patient_calendar_day == day) & (o2['time_of_day'] < datetime.time(8, 0))\n",
    "    ]\n",
    "    if check_intubation(sub):\n",
    "        flag_intub.append(day)"
   ]
  },
  {
   "cell_type": "code",
   "execution_count": 20,
   "id": "68010669-7fe5-4700-b295-06ee78b1137f",
   "metadata": {},
   "outputs": [
    {
     "data": {
      "text/plain": [
       "1079"
      ]
     },
     "execution_count": 20,
     "metadata": {},
     "output_type": "execute_result"
    }
   ],
   "source": [
    "len(flag_intub)"
   ]
  },
  {
   "cell_type": "code",
   "execution_count": 21,
   "id": "9dfabb6d-3241-4059-b73f-24e26426330f",
   "metadata": {},
   "outputs": [],
   "source": [
    "# o2[o2.patient_calendar_day == flag_intub[345]]"
   ]
  },
  {
   "cell_type": "markdown",
   "id": "86c57173-b04e-471f-9080-e31375004ea9",
   "metadata": {},
   "source": [
    "These should all be intubated"
   ]
  },
  {
   "cell_type": "code",
   "execution_count": 22,
   "id": "655fb64e-4924-42a5-8b5d-972d8d5d0800",
   "metadata": {},
   "outputs": [],
   "source": [
    "edw.loc[edw.patient_calendar_day.isin(flag_intub),'extubation_status'] = 'intubated'\n",
    "o2.loc[o2.patient_calendar_day.isin(flag_intub),'extubation_status'] = 'intubated'"
   ]
  },
  {
   "cell_type": "code",
   "execution_count": 23,
   "id": "2e7d6f5b-3288-425f-978e-85b861c5a98f",
   "metadata": {},
   "outputs": [
    {
     "data": {
      "text/plain": [
       "extubation_status  Intubation_flag\n",
       "intubated          1                  11560\n",
       "extubated          0                   3762\n",
       "intubated          0                   1079\n",
       "early extubation   1                      4\n",
       "dtype: int64"
      ]
     },
     "execution_count": 23,
     "metadata": {},
     "output_type": "execute_result"
    }
   ],
   "source": [
    "edw[['extubation_status','Intubation_flag']].value_counts()"
   ]
  },
  {
   "cell_type": "code",
   "execution_count": 24,
   "id": "2ee1e58a-62d2-47e0-a6a7-a742b2e2a388",
   "metadata": {},
   "outputs": [],
   "source": [
    "edw['Intubation_flag'] = [1 if x == 'intubated' else 0 for x in edw.extubation_status]"
   ]
  },
  {
   "cell_type": "markdown",
   "id": "d08b5dde-71a5-4c8b-b874-6f686620d7b2",
   "metadata": {},
   "source": [
    "## Label fail if reintubated within two days"
   ]
  },
  {
   "cell_type": "code",
   "execution_count": 26,
   "id": "5b05017f",
   "metadata": {},
   "outputs": [],
   "source": [
    "def first_intubation_date(x):\n",
    "    r = x.loc[x.Intubation_flag.eq(1)].head(1)\n",
    "    if r.shape[0]:\n",
    "        return r.day_bucket_starts.values[0]\n",
    "    return np.nan"
   ]
  },
  {
   "cell_type": "code",
   "execution_count": 49,
   "id": "a40a6512",
   "metadata": {},
   "outputs": [],
   "source": [
    "first_intub_by_pt_stay = edw.groupby(['pt_study_id', 'stay']).apply(first_intubation_date)"
   ]
  },
  {
   "cell_type": "code",
   "execution_count": 50,
   "id": "d66f058c",
   "metadata": {},
   "outputs": [],
   "source": [
    "THRESHOLD = 2\n",
    "for k, df_slice in edw.groupby(['pt_study_id', 'stay']):\n",
    "    intub = False\n",
    "    prev_slice = None\n",
    "    for _, intub_slice in df_slice.groupby(\n",
    "        (df_slice.Intubation_flag.shift() != df_slice.Intubation_flag).cumsum()\n",
    "    ):\n",
    "        intub_flag = intub_slice.Intubation_flag.values[0] == 1\n",
    "        if intub_flag:\n",
    "            # df.loc[intub_slice.index, 'extubation_status'] = 'intubated'\n",
    "            if intub and prev_slice is not None and prev_slice.shape[0] <= THRESHOLD:\n",
    "                edw.loc[prev_slice.index, 'extubation_status'] = 'failed'\n",
    "            intub = True\n",
    "        else:\n",
    "            if intub:\n",
    "                # check next stay intubation date against the current\n",
    "                cur_pt = df_slice.pt_study_id.values[0]\n",
    "                cur_stay = df_slice.stay.values[0]\n",
    "                cur_date = pd.to_datetime(intub_slice.day_bucket_starts).values[0]\n",
    "                next_stay_key = (cur_pt, cur_stay + 1)\n",
    "                if next_stay_key in first_intub_by_pt_stay.index:\n",
    "                    next_intub_date = pd.to_datetime(first_intub_by_pt_stay[next_stay_key])\n",
    "                    delta = (next_intub_date - cur_date).days\n",
    "                    if delta <= THRESHOLD:\n",
    "                        edw.loc[intub_slice.index, 'extubation_status'] = 'failed'\n",
    "                    else:\n",
    "                        pass\n",
    "                        # df.loc[intub_slice.index, 'extubation_status'] = 'successful'\n",
    "                else:\n",
    "                    pass\n",
    "                    # df.loc[intub_slice.index, 'extubation_status'] = 'successful'\n",
    "            else:\n",
    "                pass\n",
    "                # df.loc[intub_slice.index, 'extubation_status'] = 'preintubation'\n",
    "        prev_slice = intub_slice"
   ]
  },
  {
   "cell_type": "code",
   "execution_count": 51,
   "id": "8a85bb09",
   "metadata": {},
   "outputs": [
    {
     "data": {
      "text/plain": [
       "intubated           12639\n",
       "extubated            3629\n",
       "failed                133\n",
       "early extubation        4\n",
       "Name: extubation_status, dtype: int64"
      ]
     },
     "execution_count": 51,
     "metadata": {},
     "output_type": "execute_result"
    }
   ],
   "source": [
    "edw.extubation_status.value_counts()"
   ]
  },
  {
   "cell_type": "code",
   "execution_count": 52,
   "id": "bbfedfe6-27db-4901-9ed7-2d99bda8849c",
   "metadata": {},
   "outputs": [],
   "source": [
    "fails = edw[edw.extubation_status == 'failed'].patient_day.values"
   ]
  },
  {
   "cell_type": "code",
   "execution_count": 53,
   "id": "fa11a7c8-78f5-4d7a-a291-e598eb077039",
   "metadata": {},
   "outputs": [],
   "source": [
    "def examine_fail(day):\n",
    "    num_day = day.rsplit('/',1)[1]\n",
    "    start_str = day.rsplit('/',1)[0]\n",
    "    trail_day = f\"{start_str}/{int(num_day)+1}\"\n",
    "    trail_day_2 = f\"{start_str}/{int(num_day)+2}\"\n",
    "    lead_day = f\"{start_str}/{int(num_day)-1}\"\n",
    "    return df[df.patient_day.isin([lead_day,day,trail_day,trail_day_2])][['Intubation_flag','extubation_status']]"
   ]
  },
  {
   "cell_type": "code",
   "execution_count": 55,
   "id": "d8400d21-fa92-45c9-8f9a-02b0e438e607",
   "metadata": {},
   "outputs": [],
   "source": [
    "# examine_fail(fails[2])"
   ]
  },
  {
   "cell_type": "markdown",
   "id": "4ea34844-346e-4bd4-bfc4-881bdb6fd12c",
   "metadata": {},
   "source": [
    "These look good to go"
   ]
  },
  {
   "cell_type": "code",
   "execution_count": 56,
   "id": "925fbe08-8104-44a0-a5a0-4091d4c693ec",
   "metadata": {},
   "outputs": [],
   "source": [
    "o2.loc[o2.patient_day.isin(edw[edw.extubation_status == 'fail'].patient_day),'extubation_status'] = 'fail'"
   ]
  },
  {
   "cell_type": "markdown",
   "id": "cd2f0806",
   "metadata": {},
   "source": [
    "## Label CMO"
   ]
  },
  {
   "cell_type": "code",
   "execution_count": 12,
   "id": "753decc6",
   "metadata": {},
   "outputs": [],
   "source": [
    "endpoints = pd.read_csv(\n",
    "    endpoints_path,\n",
    "    encoding=\"unicode_escape\"\n",
    ")"
   ]
  },
  {
   "cell_type": "code",
   "execution_count": 13,
   "id": "7d113f18",
   "metadata": {},
   "outputs": [],
   "source": [
    "edw = edw.merge(\n",
    "    endpoints[['pt_study_id','death_date','discharge_disposition_name']],\n",
    "    on='pt_study_id',\n",
    "    how='left'\n",
    ")"
   ]
  },
  {
   "cell_type": "code",
   "execution_count": 59,
   "id": "8ce6f2b7",
   "metadata": {},
   "outputs": [
    {
     "data": {
      "text/plain": [
       "Expired                                                          6858\n",
       "Acute Inpatient Rehabilitation                                   3382\n",
       "Long-Term Acute Care Hospital (LTAC)                             3061\n",
       "Home with Home Health Care                                        934\n",
       "Skilled Nursing Facility or Subacute Rehab Care                   655\n",
       "Home or Self Care                                                 522\n",
       "NaN                                                               498\n",
       "Home with Hospice                                                 167\n",
       "Inpatient Hospice                                                 142\n",
       "Home with Outpatient Services                                      79\n",
       "Against Medical Advice (AMA) or Elopement                          39\n",
       "Acute Care Hospital                                                24\n",
       "Home with Equipment or O2                                          21\n",
       "Planned Readmission  DC/transferred to acute inpatient rehab      12\n",
       "Group Home                                                          6\n",
       "Inpatient Psychiatric Hospital                                      5\n",
       "Name: discharge_disposition_name, dtype: int64"
      ]
     },
     "execution_count": 59,
     "metadata": {},
     "output_type": "execute_result"
    }
   ],
   "source": [
    "edw.discharge_disposition_name.value_counts(dropna=False)"
   ]
  },
  {
   "cell_type": "code",
   "execution_count": 60,
   "id": "dc4bea2b",
   "metadata": {},
   "outputs": [
    {
     "data": {
      "text/plain": [
       "True     363\n",
       "False    349\n",
       "Name: death_date, dtype: int64"
      ]
     },
     "execution_count": 60,
     "metadata": {},
     "output_type": "execute_result"
    }
   ],
   "source": [
    "edw.drop_duplicates(subset='pt_study_id').death_date.isnull().value_counts(dropna=False)"
   ]
  },
  {
   "cell_type": "code",
   "execution_count": 61,
   "id": "998301f5",
   "metadata": {},
   "outputs": [],
   "source": [
    "renames = {\n",
    "    \"Home with Home Health Care\": \"Home\", \n",
    "    \"Home or Self Care\": \"Home\",\n",
    "    \"Against Medical Advice (AMA) or Elopement\": \"Home\", \n",
    "    \"Group Home\": \"Home\", \n",
    "    \"Home with Equipment or O2\": \"Home\", \n",
    "    \"Home with Outpatient Services\": \"Home\", \n",
    "    \"Inpatient Psychiatric Hospital\": \"Home\",\n",
    "        \n",
    "    \"Acute Inpatient Rehab\": \"Rehab\",\n",
    "    \"Planned Readmission – DC/transferred to acute inpatient rehab\": \"Rehab\",\n",
    "    \"Acute Inpatient Rehabilitation\": \"Rehab\",\n",
    "    \n",
    "    \"Skilled Nursing Facility or Subacute Rehab Care\":\"SNF\",\n",
    "    \n",
    "    \"Acute Care Hospital\": \"LTACH\", \n",
    "    \"Long-Term Acute Care Hospital (LTAC)\": \"LTACH\", \n",
    "     \n",
    "    \"Home with Hospice\": \"Hospice\", \n",
    "    \"Inpatient Hospice\": \"Hospice\", \n",
    "\n",
    "    \"Expired\": \"Died\"\n",
    "}\n",
    "\n",
    "edw.discharge_disposition_name.replace(renames, inplace=True)\n",
    "edw[\"binary_outcome\"] = \"Alive\"\n",
    "edw.loc[df.discharge_disposition_name.isin([\"Hospice\", \"Died\"]), \"binary_outcome\"] = \"Died\""
   ]
  },
  {
   "cell_type": "markdown",
   "id": "8eb69040-732f-41cd-af0e-929a5021abf0",
   "metadata": {},
   "source": [
    "### Recode lung transplant outcome as death"
   ]
  },
  {
   "cell_type": "code",
   "execution_count": 15,
   "id": "15ef22ca-b015-42c9-a76e-56e3e9c08a73",
   "metadata": {},
   "outputs": [],
   "source": [
    "trans = pd.read_csv(trans_path,encoding='unicode_escape')"
   ]
  },
  {
   "cell_type": "code",
   "execution_count": 63,
   "id": "f097c273-fd06-4b92-b1e6-2083784c48f4",
   "metadata": {},
   "outputs": [],
   "source": [
    "trans = trans[trans.lung_transplant_date.notnull()]"
   ]
  },
  {
   "cell_type": "code",
   "execution_count": 64,
   "id": "3d237ec6-a262-41e3-bff6-e9f84f3b3634",
   "metadata": {},
   "outputs": [],
   "source": [
    "trans.lung_transplant_date = pd.to_datetime(trans.lung_transplant_date.values)"
   ]
  },
  {
   "cell_type": "code",
   "execution_count": 65,
   "id": "8d1529a9-bf8b-40dd-86f8-6ab493d65e8b",
   "metadata": {},
   "outputs": [],
   "source": [
    "flag_transplants = []\n",
    "for i,r in trans.iterrows():\n",
    "    trans_date = r.lung_transplant_date\n",
    "    first_date = edw[edw.pt_study_id == r.pt_study_id].calendar_day.min()\n",
    "    last_date = edw[edw.pt_study_id == r.pt_study_id].calendar_day.max()\n",
    "    if trans_date >= first_date and trans_date <= last_date:\n",
    "        flag_transplants.append(r.pt_study_id)"
   ]
  },
  {
   "cell_type": "code",
   "execution_count": 66,
   "id": "5fca6a0d-b719-498b-b0a6-072dbd9763c6",
   "metadata": {},
   "outputs": [
    {
     "data": {
      "text/plain": [
       "11"
      ]
     },
     "execution_count": 66,
     "metadata": {},
     "output_type": "execute_result"
    }
   ],
   "source": [
    "len(flag_transplants)"
   ]
  },
  {
   "cell_type": "markdown",
   "id": "f82efc3b-f9d7-408d-99b0-c97012484f7f",
   "metadata": {},
   "source": [
    "For each day after transplant, mark these as transplanted. I will treat these as dni because the lungs \"died\"."
   ]
  },
  {
   "cell_type": "code",
   "execution_count": 69,
   "id": "3242037c-5ef0-43c6-ae0a-c1173d2fda18",
   "metadata": {},
   "outputs": [],
   "source": [
    "for t in flag_transplants:\n",
    "    trans_date = trans[trans.pt_study_id == t].lung_transplant_date.values[0]\n",
    "    sub = edw[edw.pt_study_id == t]\n",
    "    flag_index = sub[sub.calendar_day == trans_date].index.values[0]\n",
    "    edw.loc[flag_index:sub.index.values[-1],'extubation_status'] = 'dni transplant'"
   ]
  },
  {
   "cell_type": "code",
   "execution_count": 78,
   "id": "5649c418-1bcd-45ed-922b-cd17401f41aa",
   "metadata": {},
   "outputs": [
    {
     "data": {
      "text/plain": [
       "intubated           12375\n",
       "extubated            3537\n",
       "dni transplant        362\n",
       "failed                127\n",
       "early extubation        4\n",
       "Name: extubation_status, dtype: int64"
      ]
     },
     "execution_count": 78,
     "metadata": {},
     "output_type": "execute_result"
    }
   ],
   "source": [
    "edw.extubation_status.value_counts()"
   ]
  },
  {
   "cell_type": "code",
   "execution_count": 86,
   "id": "81d38827",
   "metadata": {},
   "outputs": [
    {
     "data": {
      "text/plain": [
       "Alive    404\n",
       "Died     308\n",
       "Name: binary_outcome, dtype: int64"
      ]
     },
     "execution_count": 86,
     "metadata": {},
     "output_type": "execute_result"
    }
   ],
   "source": [
    "edw.drop_duplicates(subset='pt_study_id').binary_outcome.value_counts(dropna=False)"
   ]
  },
  {
   "cell_type": "markdown",
   "id": "720f0042-132e-4d92-aad6-c8b00747286f",
   "metadata": {},
   "source": [
    "### Use redcap known CMO and backtrack leading extubated days"
   ]
  },
  {
   "cell_type": "code",
   "execution_count": 87,
   "id": "f72aebda",
   "metadata": {},
   "outputs": [],
   "source": [
    "eos = pd.read_csv(eos_path)"
   ]
  },
  {
   "cell_type": "code",
   "execution_count": 88,
   "id": "30cd4d02",
   "metadata": {},
   "outputs": [],
   "source": [
    "dni_pts = list(eos.loc[eos.withdraw_lst.eq(1) & eos.withdrawn_lst.str.contains('Invasive mechanical'),'pt_study_id'])"
   ]
  },
  {
   "cell_type": "code",
   "execution_count": 92,
   "id": "377e30c2-ada8-46ec-8a82-54efd536a3a4",
   "metadata": {},
   "outputs": [],
   "source": [
    "df = edw.set_index('patient_day')"
   ]
  },
  {
   "cell_type": "code",
   "execution_count": 93,
   "id": "889ce3d1",
   "metadata": {},
   "outputs": [],
   "source": [
    "last_days = df.groupby(['pt_study_id']).tail(1)\n",
    "last_dni_days = last_days[(last_days.Intubation_flag == False) & (last_days.pt_study_id.isin(dni_pts))]\n",
    "for i, r in last_dni_days.iterrows(): # i is index, r is all row data\n",
    "    pt_day = r.day\n",
    "    while True: # set up while loop that will be broken if we know we've gone beyond possible CMO\n",
    "        i = f\"{r.pt_study_id}/{r.stay}/{pt_day}\"\n",
    "        if pt_day < 1 or df.Intubation_flag[i] == 1:\n",
    "            break\n",
    "        df.loc[i, 'extubation_status'] = 'dni'\n",
    "        pt_day -= 1"
   ]
  },
  {
   "cell_type": "code",
   "execution_count": 94,
   "id": "c9d24bdf",
   "metadata": {},
   "outputs": [
    {
     "data": {
      "text/plain": [
       "intubated           12375\n",
       "extubated            3428\n",
       "dni transplant        362\n",
       "failed                127\n",
       "dni                   109\n",
       "early extubation        4\n",
       "Name: extubation_status, dtype: int64"
      ]
     },
     "execution_count": 94,
     "metadata": {},
     "output_type": "execute_result"
    }
   ],
   "source": [
    "df.extubation_status.value_counts(dropna=False)"
   ]
  },
  {
   "cell_type": "markdown",
   "id": "eb1ec6ca-5371-4a48-ba4c-365cb82baa96",
   "metadata": {},
   "source": [
    "### If extubated within two days of death, then labels as dni (show histogram)"
   ]
  },
  {
   "cell_type": "code",
   "execution_count": 95,
   "id": "f35bdcb8",
   "metadata": {},
   "outputs": [],
   "source": [
    "def first_day_last_extub_fun(x):\n",
    "    last = x.iloc[-1, :]\n",
    "    if last.extubation_status != 'extubated' or last.pt_study_id in dni_pts: # not successful or already dni\n",
    "        return\n",
    "    # find first row of last stretch of extubation\n",
    "    i = None\n",
    "    for idx in reversed(x.index):\n",
    "        if x.loc[idx].Intubation_flag == 1:\n",
    "            break\n",
    "        i = idx\n",
    "    return x.loc[i]\n",
    "    \n",
    "first_day_last_extub = df.groupby(['pt_study_id']).apply(first_day_last_extub_fun)"
   ]
  },
  {
   "cell_type": "code",
   "execution_count": 96,
   "id": "8f266951",
   "metadata": {},
   "outputs": [],
   "source": [
    "first_day_last_extub = first_day_last_extub[first_day_last_extub.pt_study_id.notnull()]\n",
    "first_day_last_extub.stay = first_day_last_extub.stay.astype(int)\n",
    "first_day_last_extub.day = first_day_last_extub.day.astype(int)\n",
    "first_day_last_extub.index = (\n",
    "    first_day_last_extub.pt_study_id.astype(int).astype(str)\n",
    "    + '/' + first_day_last_extub.stay.astype(int).astype(str)\n",
    "    + '/' + first_day_last_extub.day.astype(int).astype(str)\n",
    ")\n",
    "\n",
    "first_day_last_extub['death_date'] = pd.to_datetime(\n",
    "    df.death_date[first_day_last_extub.index]\n",
    ")\n",
    "first_day_last_extub['day_bucket_starts'] = pd.to_datetime(\n",
    "    df.day_bucket_starts[first_day_last_extub.index]\n",
    ")\n",
    "first_day_last_extub['time_to_death'] = (\n",
    "    first_day_last_extub.death_date - first_day_last_extub.day_bucket_starts\n",
    ").dt.days"
   ]
  },
  {
   "cell_type": "code",
   "execution_count": 97,
   "id": "c82f158a",
   "metadata": {},
   "outputs": [
    {
     "data": {
      "image/png": "[encoded data removed]",
      "text/plain": [
       "<Figure size 800x300 with 1 Axes>"
      ]
     },
     "metadata": {},
     "output_type": "display_data"
    }
   ],
   "source": [
    "fig, ax = plt.subplots(figsize=(8, 3))\n",
    "discharge_deaths = first_day_last_extub[first_day_last_extub.discharge_disposition_name == 'Died']\n",
    "discharge_deaths.time_to_death.plot.hist(bins=50,ax=ax)\n",
    "ax.set_xlabel('Days from first day of last extubation to death (discharge deaths)')\n",
    "plt.show()"
   ]
  },
  {
   "cell_type": "code",
   "execution_count": 98,
   "id": "c1350bfa-45e4-4e46-b3aa-37f1e62cebf7",
   "metadata": {},
   "outputs": [
    {
     "data": {
      "image/png": "[encoded data removed]",
      "text/plain": [
       "<Figure size 800x300 with 1 Axes>"
      ]
     },
     "metadata": {},
     "output_type": "display_data"
    }
   ],
   "source": [
    "fig, ax = plt.subplots(figsize=(8, 3))\n",
    "discharge_deaths = first_day_last_extub[first_day_last_extub.discharge_disposition_name == 'Died']\n",
    "discharge_deaths[discharge_deaths.time_to_death < 10].time_to_death.plot.hist(bins=50,ax=ax)\n",
    "ax.set_xlabel('Days from first day of last extubation to death (discharge deaths)')\n",
    "plt.show()"
   ]
  },
  {
   "cell_type": "markdown",
   "id": "a4271586-034c-443d-9b3f-a9706c1590d5",
   "metadata": {},
   "source": [
    "If within two days, flag as CMO"
   ]
  },
  {
   "cell_type": "code",
   "execution_count": 99,
   "id": "aea9ca0f-24f7-44b8-9e77-b7c343b49a28",
   "metadata": {},
   "outputs": [],
   "source": [
    "non_dni_early_deaths = first_day_last_extub.loc[\n",
    "    first_day_last_extub.time_to_death.le(THRESHOLD)\n",
    "]"
   ]
  },
  {
   "cell_type": "code",
   "execution_count": 100,
   "id": "1d8b31aa",
   "metadata": {},
   "outputs": [],
   "source": [
    "for i, r in non_dni_early_deaths.iterrows():\n",
    "    pt_day = r.day\n",
    "    while True:\n",
    "        i = f\"{int(r.pt_study_id)}/{int(r.stay)}/{int(pt_day)}\"\n",
    "        if pt_day > df[df.pt_study_id == r.pt_study_id].day.max() or df.Intubation_flag[i] == 1:\n",
    "            break\n",
    "        df.loc[i, 'extubation_status'] = 'suspected dni'\n",
    "        pt_day += 1"
   ]
  },
  {
   "cell_type": "code",
   "execution_count": 101,
   "id": "f163342d",
   "metadata": {},
   "outputs": [
    {
     "data": {
      "text/plain": [
       "intubated           12375\n",
       "extubated            3415\n",
       "dni transplant        362\n",
       "failed                127\n",
       "dni                   109\n",
       "suspected dni          13\n",
       "early extubation        4\n",
       "Name: extubation_status, dtype: int64"
      ]
     },
     "execution_count": 101,
     "metadata": {},
     "output_type": "execute_result"
    }
   ],
   "source": [
    "df.extubation_status.value_counts(dropna=False)"
   ]
  },
  {
   "cell_type": "markdown",
   "id": "0a8d235c-24c1-4089-bd13-354844a0f415",
   "metadata": {},
   "source": [
    "## Save checks"
   ]
  },
  {
   "cell_type": "code",
   "execution_count": 102,
   "id": "4e9d006d-a8c8-4873-b34f-d1525d95efa9",
   "metadata": {},
   "outputs": [],
   "source": [
    "edw.extubation_status = df.extubation_status.values"
   ]
  },
  {
   "cell_type": "code",
   "execution_count": 103,
   "id": "4020d1fe-0f78-4f93-9211-7f65e5fb8cf1",
   "metadata": {},
   "outputs": [
    {
     "data": {
      "text/plain": [
       "extubation_status  Intubation_flag\n",
       "intubated          1                  12375\n",
       "extubated          0                   3415\n",
       "dni transplant     1                    264\n",
       "failed             0                    127\n",
       "dni                0                    109\n",
       "dni transplant     0                     98\n",
       "suspected dni      0                     13\n",
       "early extubation   0                      4\n",
       "dtype: int64"
      ]
     },
     "execution_count": 103,
     "metadata": {},
     "output_type": "execute_result"
    }
   ],
   "source": [
    "edw[['extubation_status','Intubation_flag']].value_counts()"
   ]
  },
  {
   "cell_type": "markdown",
   "id": "decfc3a2-9262-4eae-8cd0-c366239ac3d4",
   "metadata": {},
   "source": [
    "Death info should be on edw df"
   ]
  },
  {
   "cell_type": "code",
   "execution_count": 104,
   "id": "cf9e5419-0093-48d6-b3a1-05c24c8d88af",
   "metadata": {},
   "outputs": [],
   "source": [
    "for col in df.columns:\n",
    "    if col not in edw.columns:\n",
    "        edw[col] = df[col].values"
   ]
  },
  {
   "cell_type": "markdown",
   "id": "3af21851-efbd-44a1-82fa-8854938c7260",
   "metadata": {},
   "source": [
    "### Check for withdrawn patients"
   ]
  },
  {
   "cell_type": "code",
   "execution_count": 123,
   "id": "6651b60f-470b-4000-b198-2b61af38d8cb",
   "metadata": {},
   "outputs": [],
   "source": [
    "# for p in [****,****,****]:\n",
    "#     if p in list(edw.pt_study_id.unique()):\n",
    "#         print(p)"
   ]
  },
  {
   "cell_type": "markdown",
   "id": "211d3e72-65b9-468b-868e-cc53458d235d",
   "metadata": {},
   "source": [
    "Not in here"
   ]
  },
  {
   "cell_type": "markdown",
   "id": "0136ae5b",
   "metadata": {},
   "source": [
    "## Remove flagged ECMO/extubation days\n",
    "\n",
    "- think most of this is by default filtered because extubated, but double check"
   ]
  },
  {
   "cell_type": "code",
   "execution_count": 108,
   "id": "2aacd6a8-b250-4c8e-b821-5b3816efbb9b",
   "metadata": {},
   "outputs": [],
   "source": [
    "mapper = pd.read_csv(mapper_path)"
   ]
  },
  {
   "cell_type": "code",
   "execution_count": 109,
   "id": "ffb5eb72-c491-4a84-a9ed-f9a41a2e8818",
   "metadata": {},
   "outputs": [],
   "source": [
    "mapper_dict = {}\n",
    "for c in mapper.patient.unique():\n",
    "    sub = mapper[mapper.patient == c]\n",
    "    if len(sub) > 0:\n",
    "        mapper_dict[c] = sub.Patient_id.values[0]"
   ]
  },
  {
   "cell_type": "code",
   "execution_count": 110,
   "id": "cdc755fb-a9b1-4805-b6a8-76a300232b78",
   "metadata": {},
   "outputs": [],
   "source": [
    "edw['old_id'] = edw.pt_study_id.map(mapper_dict)"
   ]
  },
  {
   "cell_type": "code",
   "execution_count": 111,
   "id": "33b2a937-18c6-4e0e-a2af-3cb778e4826b",
   "metadata": {},
   "outputs": [],
   "source": [
    "edw['old_Patient_id_2'] = [str(int(r.old_id))+'/'+str(int(r.stay)) if not pd.isna(r.old_id) else None for i,r in edw.iterrows()]"
   ]
  },
  {
   "cell_type": "markdown",
   "id": "8239ef3b-8c0c-45fb-ad50-7a3a6810e913",
   "metadata": {},
   "source": [
    "Manually change extubation status of a handful of patient days that were flagged from chart review, save intermediate file"
   ]
  },
  {
   "cell_type": "code",
   "execution_count": 120,
   "id": "a96573a3-5878-47c6-802b-83ab01caabc1",
   "metadata": {},
   "outputs": [],
   "source": [
    "# edw.to_csv()"
   ]
  },
  {
   "cell_type": "code",
   "execution_count": 121,
   "id": "749e16eb-51a4-42d0-9df8-88cf41ef21c9",
   "metadata": {},
   "outputs": [],
   "source": [
    "new_status_dict = {\n",
    "    r.patient_day:r.extubation_status for i,r in edw.iterrows()\n",
    "}\n",
    "o2['extubation_status'] = o2['patient_day'].map(new_status_dict)"
   ]
  },
  {
   "cell_type": "code",
   "execution_count": 122,
   "id": "ed2a8b1c-f582-43ef-8d6f-b13686679f62",
   "metadata": {},
   "outputs": [],
   "source": [
    "# o2.to_csv()"
   ]
  },
  {
   "cell_type": "code",
   "execution_count": null,
   "id": "5511e00f-79b3-4276-9a99-3d22bde9787b",
   "metadata": {},
   "outputs": [],
   "source": []
  }
 ],
 "metadata": {
  "kernelspec": {
   "display_name": "x2b8_venv",
   "language": "python",
   "name": "x2b8_venv"
  },
  "language_info": {
   "codemirror_mode": {
    "name": "ipython",
    "version": 3
   },
   "file_extension": ".py",
   "mimetype": "text/x-python",
   "name": "python",
   "nbconvert_exporter": "python",
   "pygments_lexer": "ipython3",
   "version": "3.10.6"
  }
 },
 "nbformat": 4,
 "nbformat_minor": 5
}
