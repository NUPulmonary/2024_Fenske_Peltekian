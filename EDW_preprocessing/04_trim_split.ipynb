{
 "cells": [
  {
   "cell_type": "code",
   "execution_count": 1,
   "id": "7fd9acce-f0f6-4ad4-a0a8-53eed379e8f2",
   "metadata": {},
   "outputs": [],
   "source": [
    "import os\n",
    "import warnings\n",
    "warnings.filterwarnings(\"ignore\")\n",
    "import pandas as pd\n",
    "pd.set_option('display.max_columns', None)\n",
    "import numpy as np\n",
    "import datetime\n",
    "import matplotlib.pyplot as plt\n",
    "from sklearn.model_selection import train_test_split"
   ]
  },
  {
   "cell_type": "code",
   "execution_count": 15,
   "id": "df9d7ad0-2f7c-4723-be2d-ed7c5324b284",
   "metadata": {},
   "outputs": [],
   "source": [
    "o2 = pd.read_csv(o2_path)\n",
    "edw = pd.read_csv(edw_path)"
   ]
  },
  {
   "cell_type": "markdown",
   "id": "5408a120-bc5d-4df9-bd0b-854e4abdf243",
   "metadata": {},
   "source": [
    "## Fix Norepinephrine\n",
    "- remove flag\n",
    "- set to zero if na"
   ]
  },
  {
   "cell_type": "code",
   "execution_count": 17,
   "id": "2a6f7d8c-032c-4e40-8aef-fafb650c39aa",
   "metadata": {},
   "outputs": [],
   "source": [
    "edw = edw.drop(columns='Norepinephrine_flag')"
   ]
  },
  {
   "cell_type": "code",
   "execution_count": 18,
   "id": "74dbec8c-18e1-421f-bba7-e4ea3b034b5b",
   "metadata": {},
   "outputs": [],
   "source": [
    "edw['Norepinephrine_rate'] = [0 if pd.isna(x) else x for x in edw.Norepinephrine_rate]"
   ]
  },
  {
   "cell_type": "code",
   "execution_count": 19,
   "id": "4a38cb4a-b7ad-4f2f-8eac-025c476bb7e5",
   "metadata": {},
   "outputs": [
    {
     "data": {
      "text/plain": [
       "False    16405\n",
       "Name: Norepinephrine_rate, dtype: int64"
      ]
     },
     "execution_count": 19,
     "metadata": {},
     "output_type": "execute_result"
    }
   ],
   "source": [
    "edw.Norepinephrine_rate.isnull().value_counts()"
   ]
  },
  {
   "cell_type": "markdown",
   "id": "05a93856-0a9a-499f-8248-8f4bc05e536c",
   "metadata": {},
   "source": [
    "Make sure annotations are aligned."
   ]
  },
  {
   "cell_type": "markdown",
   "id": "375d5057-aaf4-4b59-b0ae-d4951b73786a",
   "metadata": {},
   "source": [
    "## Relabel preintubation after changes"
   ]
  },
  {
   "cell_type": "code",
   "execution_count": 20,
   "id": "a840d7cf-d86b-4cf6-9251-fd69d7fdd458",
   "metadata": {},
   "outputs": [],
   "source": [
    "edw['extubation_status'] = edw['extubation_status'].replace({'preintubation':'preintubated'})"
   ]
  },
  {
   "cell_type": "code",
   "execution_count": 27,
   "id": "a4a7ed98-db99-4560-abcc-df8e66ab226d",
   "metadata": {},
   "outputs": [],
   "source": [
    "preintub_days = []\n",
    "for p in edw.Patient_id_2.unique():\n",
    "    sub = edw[edw.Patient_id_2 == p]\n",
    "    pt_day = sub.day.values[0]\n",
    "    i = sub.patient_day.values[0]\n",
    "    while pt_day <= sub.day.max() and sub[sub.patient_day == i].Intubation_flag.values[0] == 0 and \\\n",
    "    sub[sub.patient_day == i].extubation_status.values[0] != 'dni transplant':\n",
    "        # if sub[sub.patient_day == i].extubation_status.values[0] != 'preintubated':\n",
    "            preintub_days.append(i)\n",
    "            pt_day += 1\n",
    "            i = f\"{p}/{pt_day}\""
   ]
  },
  {
   "cell_type": "code",
   "execution_count": 28,
   "id": "cac49972-fc28-4ade-aa2d-aed2396d5bda",
   "metadata": {},
   "outputs": [
    {
     "data": {
      "text/plain": [
       "1895"
      ]
     },
     "execution_count": 28,
     "metadata": {},
     "output_type": "execute_result"
    }
   ],
   "source": [
    "len(preintub_days)"
   ]
  },
  {
   "cell_type": "code",
   "execution_count": 30,
   "id": "79d75c4a-3966-468e-ad05-baa01c9a5792",
   "metadata": {},
   "outputs": [
    {
     "data": {
      "text/plain": [
       "3"
      ]
     },
     "execution_count": 30,
     "metadata": {},
     "output_type": "execute_result"
    }
   ],
   "source": [
    "len(edw[edw.extubation_status == 'preintubated'])"
   ]
  },
  {
   "cell_type": "markdown",
   "id": "d7222596-c4c2-48f2-9bd5-a3444ded7e0e",
   "metadata": {},
   "source": [
    "These will be correct once I take out the missing in Epic days"
   ]
  },
  {
   "cell_type": "code",
   "execution_count": 31,
   "id": "7c7301c6-7bed-4aeb-9bb2-4c43949229a6",
   "metadata": {},
   "outputs": [],
   "source": [
    "edw = edw[edw.extubation_status != 'Missing in Epic- remove']"
   ]
  },
  {
   "cell_type": "markdown",
   "id": "3a0789b4-afca-4f95-9ddc-206c2d6299b7",
   "metadata": {},
   "source": [
    "The days that used to be preintubated but now aren't should be considered extubated"
   ]
  },
  {
   "cell_type": "code",
   "execution_count": 32,
   "id": "0bd8705b-bc61-42c7-926d-6dec455ff665",
   "metadata": {},
   "outputs": [],
   "source": [
    "edw.loc[edw.patient_day.isin(preintub_days),'extubation_status'] = 'preintubated'"
   ]
  },
  {
   "cell_type": "code",
   "execution_count": 33,
   "id": "efe7ef18-fa6d-495a-84df-bea3c36ef3b2",
   "metadata": {},
   "outputs": [
    {
     "data": {
      "text/plain": [
       "extubation_status    Intubation_flag\n",
       "intubated            1                  12333\n",
       "preintubated         0                   1892\n",
       "extubated            0                   1516\n",
       "dni transplant       0                    362\n",
       "failed               0                    125\n",
       "dni                  0                    109\n",
       "same-day fail        0                     40\n",
       "suspected dni        0                     13\n",
       "ECMO non-successful  0                      9\n",
       "early extubation     0                      3\n",
       "dtype: int64"
      ]
     },
     "execution_count": 33,
     "metadata": {},
     "output_type": "execute_result"
    }
   ],
   "source": [
    "edw[['extubation_status','Intubation_flag']].value_counts(dropna=False)"
   ]
  },
  {
   "cell_type": "code",
   "execution_count": 34,
   "id": "0b6cbc29-4d8d-4e81-8a3b-cb5bb71e8fc5",
   "metadata": {},
   "outputs": [],
   "source": [
    "new_status_dict = {\n",
    "    r.patient_day:r.extubation_status for i,r in edw.iterrows()\n",
    "}\n",
    "o2['extubation_status'] = o2['patient_day'].map(new_status_dict)"
   ]
  },
  {
   "cell_type": "code",
   "execution_count": 35,
   "id": "3e0922cc-fa3e-49a3-b757-ebac3f027995",
   "metadata": {},
   "outputs": [],
   "source": [
    "# o2.to_csv()\n",
    "# edw.to_csv()"
   ]
  },
  {
   "cell_type": "markdown",
   "id": "aa64051b-3917-4bbf-bc59-b7a68e5d06c1",
   "metadata": {},
   "source": [
    "## Trim"
   ]
  },
  {
   "cell_type": "code",
   "execution_count": 36,
   "id": "9c96c8ca-1495-4194-b2da-2ee11c283a71",
   "metadata": {},
   "outputs": [],
   "source": [
    "edw.day_bucket_starts = pd.to_datetime(edw.day_bucket_starts)"
   ]
  },
  {
   "cell_type": "code",
   "execution_count": 39,
   "id": "ada723eb-44eb-4323-9d6d-5603e23c1bbc",
   "metadata": {},
   "outputs": [],
   "source": [
    "trimmed_list = []\n",
    "\n",
    "for patient in edw['Patient_id_2'].unique():\n",
    "    sub = edw[edw['Patient_id_2'] == patient]\n",
    "    labels = list(sub['Intubation_flag'][1:])\n",
    "    next_day_ext_status = list(sub['extubation_status'][1:])\n",
    "    features = sub.iloc[:-1,:]\n",
    "    features['labels'] = labels\n",
    "    features['next_day_extubation_status'] = next_day_ext_status\n",
    "    trimmed_list.append(features)\n",
    "\n",
    "trimmed_df = pd.concat(trimmed_list, ignore_index=False)"
   ]
  },
  {
   "cell_type": "code",
   "execution_count": 40,
   "id": "f1b104fe-0fcb-4a8b-81ad-976e45d596f4",
   "metadata": {},
   "outputs": [
    {
     "data": {
      "text/plain": [
       "15462"
      ]
     },
     "execution_count": 40,
     "metadata": {},
     "output_type": "execute_result"
    }
   ],
   "source": [
    "len(trimmed_df)"
   ]
  },
  {
   "cell_type": "markdown",
   "id": "9f5c8fcc-d961-4a4e-9747-09cc6a34c849",
   "metadata": {},
   "source": [
    "For each patient stay, remove any preintubated days and take all intubated days leading up to the first extubation. If no extubation, take all intubated days."
   ]
  },
  {
   "cell_type": "code",
   "execution_count": 41,
   "id": "bccde9ac-6f75-4723-aeec-7602f36c5f28",
   "metadata": {},
   "outputs": [],
   "source": [
    "filtered_list = []\n",
    "for p in trimmed_df.Patient_id_2.unique():\n",
    "    sub = trimmed_df[trimmed_df.Patient_id_2 == p]\n",
    "    sub = sub[~sub.extubation_status.isin(['preintubation','preintubated'])]\n",
    "    df_patient_index = sub[\n",
    "    sub.next_day_extubation_status.isin(['extubated','early extubation','failed','same-day fail','ECMO non-successful'])].first_valid_index()  \n",
    "    if df_patient_index is not None:\n",
    "        df_patient = sub.loc[:df_patient_index]\n",
    "        filtered_list.append(df_patient)\n",
    "    elif len(sub[sub.next_day_extubation_status.isin(['dni','suspected dni','dni transplant'])]) > 0:\n",
    "        df_patient_index = sub[\n",
    "        sub.next_day_extubation_status.isin(['dni','suspected dni','dni transplant'])].first_valid_index()\n",
    "        df_patient = sub.loc[:df_patient_index-1]\n",
    "        filtered_list.append(df_patient)\n",
    "    else:\n",
    "        filtered_list.append(sub)\n",
    "filtered_df = pd.concat(filtered_list, ignore_index=False)"
   ]
  },
  {
   "cell_type": "code",
   "execution_count": 42,
   "id": "1e8bef1a-6148-4387-a17f-9b3860b54034",
   "metadata": {},
   "outputs": [
    {
     "data": {
      "text/plain": [
       "intubated    9829\n",
       "Name: extubation_status, dtype: int64"
      ]
     },
     "execution_count": 42,
     "metadata": {},
     "output_type": "execute_result"
    }
   ],
   "source": [
    "filtered_df.extubation_status.value_counts()"
   ]
  },
  {
   "cell_type": "code",
   "execution_count": 43,
   "id": "08ba5498-1938-47e5-aa44-1cee3279d744",
   "metadata": {},
   "outputs": [
    {
     "data": {
      "text/plain": [
       "intubated              9323\n",
       "extubated               392\n",
       "failed                   76\n",
       "same-day fail            34\n",
       "early extubation          3\n",
       "ECMO non-successful       1\n",
       "Name: next_day_extubation_status, dtype: int64"
      ]
     },
     "execution_count": 43,
     "metadata": {},
     "output_type": "execute_result"
    }
   ],
   "source": [
    "filtered_df.next_day_extubation_status.value_counts()"
   ]
  },
  {
   "cell_type": "code",
   "execution_count": 44,
   "id": "a34c6a22-5c1b-48b7-9a35-4571c8b0ef55",
   "metadata": {},
   "outputs": [],
   "source": [
    "filtered_df = filtered_df[filtered_df.next_day_extubation_status != 'ECMO non-successful']"
   ]
  },
  {
   "cell_type": "markdown",
   "id": "f1f7b46a-fe99-4e4f-8a35-4c4743656fcc",
   "metadata": {},
   "source": [
    "## Split into train/val/test as well as fail and trach"
   ]
  },
  {
   "cell_type": "code",
   "execution_count": 45,
   "id": "2a902ce8-30bb-49f8-9790-5c5e19b7c687",
   "metadata": {},
   "outputs": [],
   "source": [
    "trach_pts = filtered_df[filtered_df.trach_received == True].pt_study_id.unique()"
   ]
  },
  {
   "cell_type": "code",
   "execution_count": 46,
   "id": "24341f38-fd0c-4bb6-9f49-886a69b04ff2",
   "metadata": {},
   "outputs": [
    {
     "data": {
      "text/plain": [
       "207"
      ]
     },
     "execution_count": 46,
     "metadata": {},
     "output_type": "execute_result"
    }
   ],
   "source": [
    "len(trach_pts)"
   ]
  },
  {
   "cell_type": "code",
   "execution_count": 47,
   "id": "b9a961e0-575b-449d-a261-61c1308cc3bc",
   "metadata": {},
   "outputs": [],
   "source": [
    "fail_pts = filtered_df[\n",
    "(filtered_df.next_day_extubation_status.isin(['failed','same-day fail']))\n",
    "& (~filtered_df.pt_study_id.isin(trach_pts))\n",
    "].pt_study_id.unique()"
   ]
  },
  {
   "cell_type": "code",
   "execution_count": 48,
   "id": "d83b8cfd-d5a2-4973-ad3e-7c398e96135d",
   "metadata": {},
   "outputs": [
    {
     "data": {
      "text/plain": [
       "41"
      ]
     },
     "execution_count": 48,
     "metadata": {},
     "output_type": "execute_result"
    }
   ],
   "source": [
    "len(fail_pts)"
   ]
  },
  {
   "cell_type": "code",
   "execution_count": 49,
   "id": "7ed5f4ba-a106-4faf-b66b-c434e68fdf71",
   "metadata": {},
   "outputs": [],
   "source": [
    "filtered_pts = list(trach_pts).copy()\n",
    "filtered_pts.extend(fail_pts)\n",
    "use_df = filtered_df[~filtered_df.pt_study_id.isin(filtered_pts)]"
   ]
  },
  {
   "cell_type": "code",
   "execution_count": 50,
   "id": "08ae4a91-a632-473c-87e9-ef680a837738",
   "metadata": {},
   "outputs": [
    {
     "data": {
      "text/plain": [
       "448"
      ]
     },
     "execution_count": 50,
     "metadata": {},
     "output_type": "execute_result"
    }
   ],
   "source": [
    "use_df.pt_study_id.nunique()"
   ]
  },
  {
   "cell_type": "markdown",
   "id": "4a131185-a7ed-481b-8ca0-c36e7a262207",
   "metadata": {},
   "source": [
    "This is expectedly down from 579 from last iteration due to more flagged trach patients"
   ]
  },
  {
   "cell_type": "code",
   "execution_count": 51,
   "id": "46074404-42ca-45e0-b381-52d543c0b3da",
   "metadata": {},
   "outputs": [],
   "source": [
    "pt_data = use_df.drop_duplicates(subset='pt_study_id')"
   ]
  },
  {
   "cell_type": "code",
   "execution_count": 52,
   "id": "aefb9059-9348-4963-b586-d1f68cb51ee0",
   "metadata": {},
   "outputs": [],
   "source": [
    "pt_data.day_bucket_starts = pd.to_datetime(pt_data.day_bucket_starts)"
   ]
  },
  {
   "cell_type": "code",
   "execution_count": 58,
   "id": "42bbd207-b11e-461d-b389-e20437c87ae1",
   "metadata": {},
   "outputs": [],
   "source": [
    "new_train_val_patients = list(pt_data[pt_data.day_bucket_starts < pd.to_datetime(cutoff)].pt_study_id)\n",
    "new_test_patients = list(pt_data[pt_data.day_bucket_starts >= pd.to_datetime(cutoff)].pt_study_id)\n",
    "\n",
    "new_train_patients, new_val_patients = train_test_split(new_train_val_patients, test_size=0.2, random_state=42)\n",
    "\n",
    "new_train_df = use_df[use_df.pt_study_id.isin(new_train_patients)]\n",
    "new_val_df = use_df[use_df.pt_study_id.isin(new_val_patients)]\n",
    "new_test_df = use_df[use_df.pt_study_id.isin(new_test_patients)]"
   ]
  },
  {
   "cell_type": "code",
   "execution_count": 59,
   "id": "259f11c5-b930-45d9-8f91-28dc64327e09",
   "metadata": {},
   "outputs": [
    {
     "data": {
      "text/plain": [
       "288"
      ]
     },
     "execution_count": 59,
     "metadata": {},
     "output_type": "execute_result"
    }
   ],
   "source": [
    "new_train_df.pt_study_id.nunique()"
   ]
  },
  {
   "cell_type": "code",
   "execution_count": 60,
   "id": "6db89800-b8cf-4380-9a83-b96bac635630",
   "metadata": {},
   "outputs": [
    {
     "data": {
      "text/plain": [
       "72"
      ]
     },
     "execution_count": 60,
     "metadata": {},
     "output_type": "execute_result"
    }
   ],
   "source": [
    "new_val_df.pt_study_id.nunique()"
   ]
  },
  {
   "cell_type": "code",
   "execution_count": 61,
   "id": "6bd89fb4-d6df-435b-b33b-21d72deb2ce1",
   "metadata": {},
   "outputs": [
    {
     "data": {
      "text/plain": [
       "88"
      ]
     },
     "execution_count": 61,
     "metadata": {},
     "output_type": "execute_result"
    }
   ],
   "source": [
    "new_test_df.pt_study_id.nunique()"
   ]
  },
  {
   "cell_type": "code",
   "execution_count": 62,
   "id": "4a62ea18-3ec4-48ac-949c-6fdb5cb7439f",
   "metadata": {},
   "outputs": [],
   "source": [
    "new_fail_df = filtered_df[filtered_df.pt_study_id.isin(fail_pts)]"
   ]
  },
  {
   "cell_type": "code",
   "execution_count": 63,
   "id": "bafdb7f2-eb58-468b-ad69-8e395a7c0201",
   "metadata": {},
   "outputs": [],
   "source": [
    "new_trach_df = filtered_df[filtered_df.pt_study_id.isin(trach_pts)]"
   ]
  },
  {
   "cell_type": "markdown",
   "id": "1d1fb980-3fec-4990-ac3d-6f529aba56b9",
   "metadata": {},
   "source": [
    "## Format columns"
   ]
  },
  {
   "cell_type": "code",
   "execution_count": 64,
   "id": "990d0a9f-74a0-42a6-980e-dd5fbf0f4527",
   "metadata": {},
   "outputs": [],
   "source": [
    "format = pd.read_csv(format_path,index_col=0)"
   ]
  },
  {
   "cell_type": "code",
   "execution_count": 65,
   "id": "d09df52e-1724-4a78-8c64-083f760935ab",
   "metadata": {},
   "outputs": [
    {
     "name": "stdout",
     "output_type": "stream",
     "text": [
      "Norepinephrine_flag\n",
      "old_extubation_status\n",
      "Patient_id\n",
      "patient\n",
      "trach_collar_status\n"
     ]
    }
   ],
   "source": [
    "fill_cols = []\n",
    "for col in format.columns:\n",
    "    if col not in filtered_df.columns:\n",
    "        print(col)\n",
    "        fill_cols.append(col)"
   ]
  },
  {
   "cell_type": "code",
   "execution_count": 66,
   "id": "77904a17-6137-4516-8a5a-2dc57ddecbe6",
   "metadata": {},
   "outputs": [],
   "source": [
    "junk_cols = [x for x in filtered_df.columns if x.startswith('Unnamed: 0')]"
   ]
  },
  {
   "cell_type": "code",
   "execution_count": 67,
   "id": "f4ff46ab-228b-4414-8581-d8356d84834f",
   "metadata": {},
   "outputs": [
    {
     "name": "stdout",
     "output_type": "stream",
     "text": [
      "pt_study_id\n",
      "ir_id\n",
      "visit_key\n",
      "day_bucket_starts\n",
      "day_bucket_ends\n",
      "SOFA_score\n",
      "Mean_arterial_pressure\n",
      "PaO2FIO2_ratio\n",
      "calendar_day\n",
      "patient_calendar_day\n",
      "death_date\n",
      "discharge_disposition_name\n",
      "binary_outcome\n",
      "old_id\n",
      "old_Patient_id_2\n",
      "trach_received\n"
     ]
    }
   ],
   "source": [
    "drop_cols = []\n",
    "for col in filtered_df.columns:\n",
    "    if col not in format.columns and col not in junk_cols and col != 'Minute_Ventilation':\n",
    "        print(col)\n",
    "        drop_cols.append(col)"
   ]
  },
  {
   "cell_type": "markdown",
   "id": "de1ea59e-0043-42f4-bfb8-fdbe2a91b962",
   "metadata": {},
   "source": [
    "Save each dataframe with and without additional info. Drop all except Minute_ventilation for Alec's scripts"
   ]
  },
  {
   "cell_type": "code",
   "execution_count": 70,
   "id": "e455e71b-8e92-4893-adf8-2d72a3bc4b38",
   "metadata": {},
   "outputs": [],
   "source": [
    "df_dict = {\n",
    "    'train':new_train_df,\n",
    "    'val':new_val_df,\n",
    "    'test':new_test_df,\n",
    "    'fail':new_fail_df,\n",
    "    'trach':new_trach_df\n",
    "}"
   ]
  },
  {
   "cell_type": "code",
   "execution_count": 71,
   "id": "bf42e2b7-42dd-46bf-9176-4ac0f1e83cd5",
   "metadata": {},
   "outputs": [],
   "source": [
    "for ds in df_dict.keys():\n",
    "    df = df_dict[ds]\n",
    "    df = df.drop(columns=junk_cols)\n",
    "    for col in fill_cols:\n",
    "        df[col] = ''\n",
    "    df.to_csv(f\"{outdir}/{ds}_additional_data.csv\")\n",
    "    df = df.drop(columns=drop_cols)\n",
    "    df.to_csv(f\"{outdir}/{ds}.csv\")"
   ]
  }
 ],
 "metadata": {
  "kernelspec": {
   "display_name": "x2b8_venv",
   "language": "python",
   "name": "x2b8_venv"
  },
  "language_info": {
   "codemirror_mode": {
    "name": "ipython",
    "version": 3
   },
   "file_extension": ".py",
   "mimetype": "text/x-python",
   "name": "python",
   "nbconvert_exporter": "python",
   "pygments_lexer": "ipython3",
   "version": "3.10.6"
  }
 },
 "nbformat": 4,
 "nbformat_minor": 5
}
