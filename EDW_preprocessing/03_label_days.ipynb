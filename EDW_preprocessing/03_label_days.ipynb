{
 "cells": [
  {
   "cell_type": "code",
   "execution_count": 1,
   "id": "a988d9d6",
   "metadata": {},
   "outputs": [],
   "source": [
    "import os\n",
    "import warnings\n",
    "warnings.filterwarnings(\"ignore\")\n",
    "import pandas as pd\n",
    "pd.set_option('display.max_columns', None)\n",
    "import numpy as np\n",
    "import datetime\n",
    "import matplotlib.pyplot as plt"
   ]
  },
  {
   "cell_type": "code",
   "execution_count": 2,
   "id": "731c4773-5b67-4f34-9472-36bbc1b5e195",
   "metadata": {},
   "outputs": [],
   "source": [
    "edw = pd.read_csv(edw_path)\n",
    "o2 = pd.read_csv(o2_path)"
   ]
  },
  {
   "cell_type": "code",
   "execution_count": 3,
   "id": "6dab17c0-451f-48af-846c-78ec33c49100",
   "metadata": {},
   "outputs": [],
   "source": [
    "o2['RECORDED_TIME'] = pd.to_datetime(o2['RECORDED_TIME'])\n",
    "o2['calendar_day'] = [np.datetime64(rt, 'D') for rt in o2.RECORDED_TIME]\n",
    "o2['patient_calendar_day'] = [str(r.pt_study_id) + str(r.calendar_day) for i,r in o2.iterrows()]\n",
    "o2['time_of_day'] = [x.astype('datetime64[s]').astype(object).time() for x in o2.RECORDED_TIME.values]"
   ]
  },
  {
   "cell_type": "markdown",
   "id": "0c5f4eb8-c724-4fc8-9331-15d697274d19",
   "metadata": {},
   "source": [
    "## Same-day fails"
   ]
  },
  {
   "cell_type": "code",
   "execution_count": 4,
   "id": "7bc1136d-16c7-4db1-99e7-d2540a1a3fbe",
   "metadata": {},
   "outputs": [],
   "source": [
    "def check_failed_extubation(sub):\n",
    "    if len(sub) == 0:\n",
    "        return False\n",
    "    extub_yes = ((sub.DISP_NAME == \"Extubation\") & (sub.MEAS_VALUE == \"Yes\"))\n",
    "    vent_dc = ((sub.DISP_NAME == 'Vent D/C') | (sub.DISP_NAME == 'Vent D/C Time'))\n",
    "    extub_check =  np.where(extub_yes | vent_dc)[0]\n",
    "\n",
    "    vent_display = ((sub.DISP_NAME == 'O2 Device') & (sub.MEAS_VALUE == 'Ventilator'))\n",
    "    vent_yes = (sub.DISP_NAME == 'Ventilator')\n",
    "    intub_yes = np.where(vent_display | vent_yes)[0]\n",
    "\n",
    "    pt_day = sub.patient_day.values[0]\n",
    "    stay = pt_day.rsplit('/',1)[0]\n",
    "    day = pt_day.rsplit('/',1)[1]\n",
    "    next_day = f\"{stay}/{int(day)+1}\"\n",
    "    if next_day in list(edw.patient_day):\n",
    "        next_day_status = edw[edw.patient_day == next_day].extubation_status.values[0]\n",
    "    else:\n",
    "        next_day_status = 'missing'\n",
    "\n",
    "\n",
    "    # at least three markers of intubation after extubation\n",
    "    if len(extub_check) > 0:\n",
    "        if next_day_status == 'intubated':\n",
    "            return True\n",
    "        elif len(intub_yes) > 0: \n",
    "            num_greater = len([x for x in intub_yes if x > max(extub_check)])\n",
    "            return num_greater >= 3\n",
    "        else:\n",
    "            return False\n",
    "    else:\n",
    "        return False"
   ]
  },
  {
   "cell_type": "code",
   "execution_count": 5,
   "id": "0554ead7-7761-49bf-94a8-871e1a68c78a",
   "metadata": {},
   "outputs": [],
   "source": [
    "check_fail = []\n",
    "intub_days = edw[edw.extubation_status == 'intubated'].patient_day.unique()\n",
    "for day in intub_days:\n",
    "    sub = o2[(o2.patient_day == day) & (o2['time_of_day'] >= datetime.time(8, 0))]\n",
    "    if check_failed_extubation(sub):\n",
    "        check_fail.append(day)"
   ]
  },
  {
   "cell_type": "code",
   "execution_count": 6,
   "id": "781da124-4676-409d-a17b-8e2d66a1584b",
   "metadata": {},
   "outputs": [
    {
     "data": {
      "text/plain": [
       "41"
      ]
     },
     "execution_count": 6,
     "metadata": {},
     "output_type": "execute_result"
    }
   ],
   "source": [
    "len(check_fail)"
   ]
  },
  {
   "cell_type": "code",
   "execution_count": 8,
   "id": "06263d78-680e-4c0c-9a7c-a09cfccca0a1",
   "metadata": {},
   "outputs": [],
   "source": [
    "edw.loc[edw.patient_day.isin(check_fail),'extubation_status'] = 'same-day fail'"
   ]
  },
  {
   "cell_type": "markdown",
   "id": "fe4bc555",
   "metadata": {},
   "source": [
    "## Flag days that have the trach collar"
   ]
  },
  {
   "cell_type": "code",
   "execution_count": 9,
   "id": "4a54f207-f684-4c9d-a770-4d71280eb439",
   "metadata": {},
   "outputs": [],
   "source": [
    "def trach_check(sub,min_cts=3): \n",
    "    trach_indices = np.where((sub.DISP_NAME == 'O2 Device') & (sub.MEAS_VALUE == 'Trach collar'))\n",
    "    if len(trach_indices) > 0:\n",
    "        if len(trach_indices[0]) >= min_cts:\n",
    "            return True\n",
    "        else:\n",
    "            return False\n",
    "    else:\n",
    "        return False"
   ]
  },
  {
   "cell_type": "code",
   "execution_count": 10,
   "id": "d88d4f2a-7858-4434-bb1e-df16cbead274",
   "metadata": {},
   "outputs": [],
   "source": [
    "trach_pts = []\n",
    "for pt in o2.pt_study_id.unique():\n",
    "    sub = o2[o2.pt_study_id == pt]\n",
    "    if trach_check(sub,min_cts=3):\n",
    "        trach_pts.append(pt)"
   ]
  },
  {
   "cell_type": "code",
   "execution_count": 11,
   "id": "6d3a9160-170a-4d50-aca7-5bf0a2280e3b",
   "metadata": {},
   "outputs": [
    {
     "data": {
      "text/plain": [
       "126"
      ]
     },
     "execution_count": 11,
     "metadata": {},
     "output_type": "execute_result"
    }
   ],
   "source": [
    "len(trach_pts)"
   ]
  },
  {
   "cell_type": "code",
   "execution_count": 12,
   "id": "a8420c33-3a74-475e-b9a7-00736d6b7e5e",
   "metadata": {},
   "outputs": [],
   "source": [
    "trach_df = pd.read_excel(trach_path)\n",
    "trach_df = trach_df.iloc[7:]\n",
    "trach_df.columns = trach_df.iloc[0]\n",
    "trach_df = trach_df.iloc[1:]\n",
    "trach_df['trach_status'] = [True if 'Tracheostomy' in x else False for x in trach_df['PROPERTIES DISPLAY']]"
   ]
  },
  {
   "cell_type": "code",
   "execution_count": 13,
   "id": "419541c0-366a-4eb3-aaf9-f5153793245b",
   "metadata": {},
   "outputs": [],
   "source": [
    "trach_pull = trach_df['pt study id'].unique()\n",
    "trach_pull = [int(x) for x in trach_pull]"
   ]
  },
  {
   "cell_type": "code",
   "execution_count": 14,
   "id": "7f1e46b0-7fda-42ca-81a0-978a7817385b",
   "metadata": {},
   "outputs": [],
   "source": [
    "edw.calendar_day = pd.to_datetime(edw.calendar_day)"
   ]
  },
  {
   "cell_type": "code",
   "execution_count": 15,
   "id": "bb3fabf5-72b7-4231-aecb-bb2c87cce638",
   "metadata": {},
   "outputs": [],
   "source": [
    "additional_trach_pts = []\n",
    "for pt in trach_pull:\n",
    "    if pt in list(edw.pt_study_id.unique()) and pt not in trach_pts:\n",
    "        placement_date = trach_df[trach_df['pt study id'] == str(pt)]['Placement Date'].values[0]\n",
    "        if pd.isna(placement_date):\n",
    "            continue\n",
    "        last_date = edw[edw.pt_study_id == pt].calendar_day.max()\n",
    "        first_date = edw[edw.pt_study_id == pt].calendar_day.min()\n",
    "        if placement_date >= first_date and placement_date <= last_date:\n",
    "            additional_trach_pts.append(pt)"
   ]
  },
  {
   "cell_type": "code",
   "execution_count": 16,
   "id": "c5374fc8-ef29-415a-9dc6-8df3b835e71f",
   "metadata": {},
   "outputs": [
    {
     "data": {
      "text/plain": [
       "84"
      ]
     },
     "execution_count": 16,
     "metadata": {},
     "output_type": "execute_result"
    }
   ],
   "source": [
    "len(additional_trach_pts)"
   ]
  },
  {
   "cell_type": "code",
   "execution_count": 17,
   "id": "5ae45baf-c542-4d08-b377-3b73caca6837",
   "metadata": {},
   "outputs": [],
   "source": [
    "all_flagged = trach_pts.copy()\n",
    "all_flagged.extend(additional_trach_pts)"
   ]
  },
  {
   "cell_type": "code",
   "execution_count": 18,
   "id": "eac55c0e-16c0-41a2-88f3-0d47bb857f52",
   "metadata": {},
   "outputs": [],
   "source": [
    "edw['trach_received'] = [True if x in all_flagged else False for x in edw.pt_study_id]"
   ]
  },
  {
   "cell_type": "code",
   "execution_count": 19,
   "id": "13daa616-ead2-44a4-8e8b-791640e427e5",
   "metadata": {},
   "outputs": [],
   "source": [
    "edw['Intubation_flag'] = [1 if x == 'intubated' else 0 for x in edw.extubation_status]"
   ]
  },
  {
   "cell_type": "code",
   "execution_count": 20,
   "id": "30d88e1f-3742-46c9-bde8-1f69a5dbab5d",
   "metadata": {},
   "outputs": [],
   "source": [
    "new_status_dict = {\n",
    "    r.patient_day:r.extubation_status for i,r in edw.iterrows()\n",
    "}\n",
    "o2['extubation_status'] = o2['patient_day'].map(new_status_dict)"
   ]
  },
  {
   "cell_type": "markdown",
   "id": "3eef47d3-97e5-48d1-ad7b-773fe146fccb",
   "metadata": {},
   "source": [
    "Save intermediate files"
   ]
  },
  {
   "cell_type": "code",
   "execution_count": 23,
   "id": "eb1595f4-7128-4300-b1a5-c9fbb9adab91",
   "metadata": {},
   "outputs": [],
   "source": [
    "# o2.to_csv()"
   ]
  },
  {
   "cell_type": "code",
   "execution_count": 24,
   "id": "9c00e47a-df8d-4a88-92d8-a9337d8a2d22",
   "metadata": {},
   "outputs": [],
   "source": [
    "# edw.to_csv()"
   ]
  },
  {
   "cell_type": "code",
   "execution_count": null,
   "id": "cf60e510-4aae-491e-84cd-503c9f0b03d1",
   "metadata": {},
   "outputs": [],
   "source": []
  }
 ],
 "metadata": {
  "kernelspec": {
   "display_name": "x2b8_venv",
   "language": "python",
   "name": "x2b8_venv"
  },
  "language_info": {
   "codemirror_mode": {
    "name": "ipython",
    "version": 3
   },
   "file_extension": ".py",
   "mimetype": "text/x-python",
   "name": "python",
   "nbconvert_exporter": "python",
   "pygments_lexer": "ipython3",
   "version": "3.10.6"
  }
 },
 "nbformat": 4,
 "nbformat_minor": 5
}
