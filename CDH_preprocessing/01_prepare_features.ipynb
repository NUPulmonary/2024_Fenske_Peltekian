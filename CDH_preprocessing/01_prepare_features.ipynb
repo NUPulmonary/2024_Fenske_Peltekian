{
 "cells": [
  {
   "cell_type": "markdown",
   "id": "c67233e7",
   "metadata": {},
   "source": [
    "## New CDH data from Anna"
   ]
  },
  {
   "cell_type": "code",
   "execution_count": 3,
   "id": "636c0c37",
   "metadata": {},
   "outputs": [],
   "source": [
    "import os\n",
    "import warnings\n",
    "warnings.filterwarnings(\"ignore\")\n",
    "import pandas as pd\n",
    "pd.set_option('display.max_columns', None)\n",
    "import numpy as np\n",
    "import matplotlib.pyplot as plt\n",
    "import seaborn as sns\n",
    "import datetime"
   ]
  },
  {
   "cell_type": "code",
   "execution_count": 4,
   "id": "245d4182",
   "metadata": {},
   "outputs": [],
   "source": [
    "cdh = pd.read_excel(cdh_path)"
   ]
  },
  {
   "cell_type": "markdown",
   "id": "3e1222ea",
   "metadata": {},
   "source": [
    "## Label ICU stays"
   ]
  },
  {
   "cell_type": "code",
   "execution_count": 5,
   "id": "0abf234f",
   "metadata": {},
   "outputs": [],
   "source": [
    "cdh['Patient_id_2'] = [str(r.ir_id)+'/'+str(r.ICU_rank) for i,r in cdh.iterrows()]\n",
    "cdh['patient_day'] = [str(r.ir_id)+'/'+str(r.ICU_rank)+'/'+str(r.ICU_day) for i,r in cdh.iterrows()]"
   ]
  },
  {
   "cell_type": "code",
   "execution_count": 6,
   "id": "65eafa7c",
   "metadata": {},
   "outputs": [],
   "source": [
    "cdh = cdh.sort_values(by=['ir_id','ICU_rank','ICU_day'])"
   ]
  },
  {
   "cell_type": "code",
   "execution_count": 7,
   "id": "41c6135b",
   "metadata": {},
   "outputs": [],
   "source": [
    "errant_stays = []\n",
    "for p in cdh.Patient_id_2.unique():\n",
    "    sub = cdh[cdh.Patient_id_2 == p]\n",
    "    days = sub.day_bucket_ends.values\n",
    "    i = len(sub) - 1\n",
    "    while i > 0:\n",
    "        delta = days[i] - days[i-1]\n",
    "        num_delta = delta.astype('timedelta64[D]').astype(int)\n",
    "        if num_delta != 1 and p not in errant_stays:\n",
    "            errant_stays.append(p)\n",
    "        i -= 1"
   ]
  },
  {
   "cell_type": "code",
   "execution_count": 8,
   "id": "b8080e3f",
   "metadata": {},
   "outputs": [
    {
     "data": {
      "text/plain": [
       "7"
      ]
     },
     "execution_count": 8,
     "metadata": {},
     "output_type": "execute_result"
    }
   ],
   "source": [
    "len(errant_stays)"
   ]
  },
  {
   "cell_type": "markdown",
   "id": "2bd69357",
   "metadata": {},
   "source": [
    "I went through and looked at all of these. There seems to have been some errors in the ICU_rank and ICU_day numbers. I'm going to sort these stays by date, and every time there's a jump in days I'm going to relabel the ICU rank and start ICU day over. Will take all the patients data so that I'm correctly numbering ICU_rank"
   ]
  },
  {
   "cell_type": "code",
   "execution_count": 9,
   "id": "f0efe508",
   "metadata": {},
   "outputs": [],
   "source": [
    "for errant_stay in errant_stays:\n",
    "    p = cdh[cdh.Patient_id_2 == errant_stay].ir_id.values[0]\n",
    "    sub = cdh[cdh.ir_id == p].sort_values(by='day_bucket_starts')\n",
    "    rank = sub.ICU_rank.values[0]\n",
    "    day = 1\n",
    "    ranks = [rank]\n",
    "    icu_days = [1]\n",
    "    days = sub.day_bucket_ends.values\n",
    "    i = 1\n",
    "    while i < len(days):\n",
    "        delta = days[i] - days[i-1]\n",
    "        num_delta = delta.astype('timedelta64[D]').astype(int)\n",
    "        if num_delta != 1:\n",
    "            rank += 1\n",
    "            day = 1\n",
    "        else:\n",
    "            day += 1\n",
    "        icu_days.append(day)\n",
    "        ranks.append(rank)\n",
    "        i += 1\n",
    "    cdh.loc[sub.index,'ICU_rank'] = ranks\n",
    "    cdh.loc[sub.index,'ICU_day'] = icu_days"
   ]
  },
  {
   "cell_type": "code",
   "execution_count": 10,
   "id": "90a67a46",
   "metadata": {},
   "outputs": [],
   "source": [
    "cdh['Patient_id_2'] = [str(r.ir_id)+'/'+str(r.ICU_rank) for i,r in cdh.iterrows()]\n",
    "cdh['patient_day'] = [str(r.ir_id)+'/'+str(r.ICU_rank)+'/'+str(r.ICU_day) for i,r in cdh.iterrows()]"
   ]
  },
  {
   "cell_type": "code",
   "execution_count": 11,
   "id": "d17cd60a",
   "metadata": {},
   "outputs": [],
   "source": [
    "cdh = cdh.sort_values(by=['ir_id','ICU_rank','ICU_day'])"
   ]
  },
  {
   "cell_type": "markdown",
   "id": "1c0ab2a9",
   "metadata": {},
   "source": [
    "Rerun code that checks for data discrepencies in dataset"
   ]
  },
  {
   "cell_type": "code",
   "execution_count": 12,
   "id": "0618da51",
   "metadata": {},
   "outputs": [],
   "source": [
    "errant_stays = []\n",
    "for p in cdh.Patient_id_2.unique():\n",
    "    sub = cdh[cdh.Patient_id_2 == p]\n",
    "    days = sub.day_bucket_ends.values\n",
    "    i = len(sub) - 1\n",
    "    while i > 0:\n",
    "        delta = days[i] - days[i-1]\n",
    "        num_delta = delta.astype('timedelta64[D]').astype(int)\n",
    "        if num_delta != 1 and p not in errant_stays:\n",
    "            errant_stays.append(p)\n",
    "        i -= 1"
   ]
  },
  {
   "cell_type": "code",
   "execution_count": 13,
   "id": "daa33091",
   "metadata": {},
   "outputs": [
    {
     "data": {
      "text/plain": [
       "0"
      ]
     },
     "execution_count": 13,
     "metadata": {},
     "output_type": "execute_result"
    }
   ],
   "source": [
    "len(errant_stays)"
   ]
  },
  {
   "cell_type": "markdown",
   "id": "6c1350c3",
   "metadata": {},
   "source": [
    "Looks good"
   ]
  },
  {
   "cell_type": "markdown",
   "id": "12c80b90",
   "metadata": {},
   "source": [
    "Will call our dataset cd (even though this contains some days outside of CarpeDiem)"
   ]
  },
  {
   "cell_type": "code",
   "execution_count": 21,
   "id": "e79ceccd",
   "metadata": {},
   "outputs": [],
   "source": [
    "cd = pd.read_csv(cd_path,index_col=0)"
   ]
  },
  {
   "cell_type": "markdown",
   "id": "3188bfc5",
   "metadata": {},
   "source": [
    "## Clean up column names"
   ]
  },
  {
   "cell_type": "code",
   "execution_count": 22,
   "id": "ffd2032c",
   "metadata": {},
   "outputs": [],
   "source": [
    "# Marjorie's list to fix column names, will want to reverse this\n",
    "\n",
    "rename_list = {#'script_id':'pt_study_id',\n",
    "               'stay':'ICU_rank',\n",
    "                'day':'ICU_day',\n",
    "               'SOFA_score':'SOFA',\n",
    "               'Intubation_flag':'intub_flag',\n",
    "               'Hemodialysis_flag':'hd_flag',\n",
    "               'Temperature':'Temperature_avg',\n",
    "               'Heart_rate':'Heart_rate_avg',\n",
    "               'Systolic_blood_pressure':'Systolic_blood_pressure_avg',\n",
    "               'Diastolic_blood_pressure':'Diastolic_blood_pressure_avg',\n",
    "               'Mean_arterial_pressure':'Mean_arterial_pressure_avg',## double check\n",
    "               'Norepinephrine_rate':'norepinephrine_max',\n",
    "               'Respiratory_rate':'Respiratory_rate_avg',\n",
    "               'Oxygen_saturation':'Oxygen_saturation_avg',\n",
    "               'GCS_eye_opening':'Eye_Opening_min',\n",
    "               'GCS_motor_response':'Best_Motor_Response_min',\n",
    "               'GCS_verbal_response':'Best_Verbal_Response_min',\n",
    "                'Minute_Ventilation':'Minute_Ventilation_avg',\n",
    "#                'RASS_score':'RASS_avg',\n",
    "               'PEEP':'Peep_avg',\n",
    "               'FiO2':'FiO2_avg',\n",
    "               'Plateau_Pressure':'Plateau_Pressure_avg',\n",
    "    \n",
    "               'PaO2FIO2_ratio':'pO2_FiO2_ratio_min',\n",
    "               'WBC_count':'wbc_avg',\n",
    "               'Lymphocytes':'abs_lymphocytes_avg',\n",
    "               'Neutrophils':'abs_neutrophils_avg',\n",
    "               'Hemoglobin':'hemoglobin_avg',\n",
    "               'Platelets':'PLATELET_min',\n",
    "               'Bicarbonate':'BICARBONATE_avg',\n",
    "               'Creatinine':'Creatinine_max',\n",
    "               'Albumin':'ALBUMIN_avg',\n",
    "               'Bilirubin':'BILIRUBIN_max',\n",
    "               'CRP':'CRP_avg',\n",
    "               'D_dimer':'d_dimer_avg',\n",
    "               'Ferritin':'FERRITIN_avg',\n",
    "               'LDH':'LDH_avg',\n",
    "               'Lactic_acid':'Lactic_Acid_avg',\n",
    "               'Procalcitonin':'PROCALCITONIN_avg'}\n",
    "feature_map = {value: key for key, value in rename_list.items()}\n"
   ]
  },
  {
   "cell_type": "code",
   "execution_count": 23,
   "id": "025ba1bf",
   "metadata": {},
   "outputs": [],
   "source": [
    "cdh_clean = cdh.copy()"
   ]
  },
  {
   "cell_type": "code",
   "execution_count": 24,
   "id": "823ca1b6",
   "metadata": {},
   "outputs": [],
   "source": [
    "cdh_clean.columns = [feature_map[col] if col in feature_map.keys() else col for col in cdh_clean.columns]"
   ]
  },
  {
   "cell_type": "code",
   "execution_count": 25,
   "id": "ee4091ba-ae06-4e7c-bbbd-24243bc77c24",
   "metadata": {},
   "outputs": [
    {
     "name": "stdout",
     "output_type": "stream",
     "text": [
      "pt_study_id\n",
      "Hemodialysis_flag\n",
      "RASS_score\n",
      "Lung_Compliance\n",
      "ABG_PaO2\n",
      "ABG_PaCO2\n",
      "ABG_pH\n",
      "Norepinephrine_flag\n"
     ]
    }
   ],
   "source": [
    "for col in cd.columns:\n",
    "    if col not in cdh_clean.columns:\n",
    "        print(col)"
   ]
  },
  {
   "cell_type": "markdown",
   "id": "d21ad839",
   "metadata": {},
   "source": [
    "RASS_score, Lung_Compliance, ABG_pH, ABG_PaCO2, ABG_PaO2, and Hemodialysis_flag need to be added"
   ]
  },
  {
   "cell_type": "code",
   "execution_count": 26,
   "id": "00645baf",
   "metadata": {},
   "outputs": [],
   "source": [
    "extra_feature_map = {\n",
    "    'RASS_max':'RASS_score',\n",
    "    'Static_Compliance_avg':'Lung_Compliance',\n",
    "    'PH_ART_avg':'ABG_pH',\n",
    "    'PCO2_ART_avg':'ABG_PaCO2',\n",
    "    'PO2_ART_avg':'ABG_PaO2',\n",
    "    'HD_flag':'Hemodialysis_flag'\n",
    "}\n",
    "\n",
    "cdh_clean.columns = [extra_feature_map[col] if col in extra_feature_map.keys() else col for col in cdh_clean.columns]\n"
   ]
  },
  {
   "cell_type": "code",
   "execution_count": 27,
   "id": "df985ab2-cc60-46cf-9764-90b035cde130",
   "metadata": {},
   "outputs": [],
   "source": [
    "remove_patterns = [\"_min\",\"_max\",'_avg']\n",
    "drop_cols = [col for col in cdh_clean.columns if any(col.endswith(combo) for combo in remove_patterns)]\n",
    "cdh_clean = cdh_clean.drop(columns=drop_cols)"
   ]
  },
  {
   "cell_type": "code",
   "execution_count": 28,
   "id": "55654581",
   "metadata": {},
   "outputs": [],
   "source": [
    "remove_patterns = [\"_min\",\"_max\",'_avg']\n",
    "drop_cols = [col for col in cdh_clean.columns if any(col.endswith(combo) for combo in remove_patterns)]\n",
    "cdh_clean = cdh_clean.drop(columns=drop_cols)"
   ]
  },
  {
   "cell_type": "markdown",
   "id": "36d94da2-2810-4fc6-964b-0255fd5fb45b",
   "metadata": {},
   "source": [
    "Proceed without outlier adjustment for now."
   ]
  },
  {
   "cell_type": "markdown",
   "id": "25b8241a-0062-407f-97d4-c9ca7d9dfb04",
   "metadata": {},
   "source": [
    "### Fix norepinephrine"
   ]
  },
  {
   "cell_type": "code",
   "execution_count": 30,
   "id": "08b78f4c-8523-4765-b1ac-1f9386192f42",
   "metadata": {},
   "outputs": [],
   "source": [
    "cdh_clean['Norepinephrine_rate'] = [0 if pd.isna(x) else x for x in cdh_clean.Norepinephrine_rate]"
   ]
  },
  {
   "cell_type": "code",
   "execution_count": 31,
   "id": "ecf9cdd3-1246-4952-8d2e-a075f4eaa62c",
   "metadata": {},
   "outputs": [
    {
     "data": {
      "text/plain": [
       "False    5814\n",
       "Name: Norepinephrine_rate, dtype: int64"
      ]
     },
     "execution_count": 31,
     "metadata": {},
     "output_type": "execute_result"
    }
   ],
   "source": [
    "cdh_clean.Norepinephrine_rate.isnull().value_counts()"
   ]
  },
  {
   "cell_type": "markdown",
   "id": "efb9fa79-ffc0-4dc8-beb3-3c02b64cdcb3",
   "metadata": {},
   "source": [
    "Save intermediate file"
   ]
  },
  {
   "cell_type": "code",
   "execution_count": 35,
   "id": "fdad520a",
   "metadata": {},
   "outputs": [],
   "source": [
    "# cdh_clean.to_csv()"
   ]
  }
 ],
 "metadata": {
  "kernelspec": {
   "display_name": "x2b8_venv",
   "language": "python",
   "name": "x2b8_venv"
  },
  "language_info": {
   "codemirror_mode": {
    "name": "ipython",
    "version": 3
   },
   "file_extension": ".py",
   "mimetype": "text/x-python",
   "name": "python",
   "nbconvert_exporter": "python",
   "pygments_lexer": "ipython3",
   "version": "3.10.6"
  }
 },
 "nbformat": 4,
 "nbformat_minor": 5
}
