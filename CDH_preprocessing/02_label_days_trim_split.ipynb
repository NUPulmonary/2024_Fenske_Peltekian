{
 "cells": [
  {
   "cell_type": "code",
   "execution_count": 3,
   "id": "5066970d",
   "metadata": {},
   "outputs": [],
   "source": [
    "import os\n",
    "import warnings\n",
    "warnings.filterwarnings(\"ignore\")\n",
    "import pandas as pd\n",
    "pd.set_option('display.max_columns', None)\n",
    "import numpy as np\n",
    "import matplotlib.pyplot as plt\n",
    "import seaborn as sns\n",
    "import datetime\n",
    "from sklearn.model_selection import train_test_split\n"
   ]
  },
  {
   "cell_type": "code",
   "execution_count": 3,
   "id": "a97395a8-badb-4609-9d4c-eae6edaf6df4",
   "metadata": {},
   "outputs": [],
   "source": [
    "o2 = pd.read_csv(o2_path)\n",
    "cdh = pd.read_csv(cdh_path,index_col=0)"
   ]
  },
  {
   "cell_type": "code",
   "execution_count": 4,
   "id": "af1323a9-a66f-4651-9c88-71d46a3ccb6d",
   "metadata": {},
   "outputs": [
    {
     "data": {
      "text/plain": [
       "1    4067\n",
       "0    1747\n",
       "Name: Intubation_flag, dtype: int64"
      ]
     },
     "execution_count": 4,
     "metadata": {},
     "output_type": "execute_result"
    }
   ],
   "source": [
    "cdh['Intubation_flag'].value_counts(dropna=False)"
   ]
  },
  {
   "cell_type": "code",
   "execution_count": 5,
   "id": "6e46cd4e-4cb4-4cbb-bd4d-25839531ca9d",
   "metadata": {},
   "outputs": [],
   "source": [
    "cdh['extubation_status'] = ['extubated' if x == 0 else 'intubated' for x in cdh.Intubation_flag]"
   ]
  },
  {
   "cell_type": "code",
   "execution_count": 6,
   "id": "430b0db8-2667-4647-be80-abd4d40c1f59",
   "metadata": {},
   "outputs": [
    {
     "data": {
      "text/plain": [
       "intubated    4067\n",
       "extubated    1747\n",
       "Name: extubation_status, dtype: int64"
      ]
     },
     "execution_count": 6,
     "metadata": {},
     "output_type": "execute_result"
    }
   ],
   "source": [
    "cdh['extubation_status'].value_counts(dropna=False)"
   ]
  },
  {
   "cell_type": "code",
   "execution_count": 7,
   "id": "b479978e-b518-4a30-9aa9-54a6debffc14",
   "metadata": {},
   "outputs": [],
   "source": [
    "o2['RECORDED_TIME'] = pd.to_datetime(o2['RECORDED_TIME'])\n",
    "o2['recorded_day'] = [np.datetime_as_string(x, unit='D') for x in o2['RECORDED_TIME'].values]"
   ]
  },
  {
   "cell_type": "code",
   "execution_count": 8,
   "id": "95316467-d148-4dc5-bc65-706217adad50",
   "metadata": {},
   "outputs": [],
   "source": [
    "o2['patient_calendar_day'] = [str(r.ir_id) + '/' + str(r.recorded_day) for i,r in o2.iterrows()]"
   ]
  },
  {
   "cell_type": "code",
   "execution_count": 9,
   "id": "bc2b1bdc-6e80-4196-80ab-589d2c2cd5a8",
   "metadata": {},
   "outputs": [],
   "source": [
    "cdh['patient_calendar_day'] = [str(r.ir_id) + '/' + str(r.day_bucket_starts) for i,r in cdh.iterrows()]"
   ]
  },
  {
   "cell_type": "code",
   "execution_count": 10,
   "id": "5c4eda45-0d1d-4f53-a174-fb0ddd76dc9c",
   "metadata": {},
   "outputs": [],
   "source": [
    "patient_day_map = {\n",
    "    r.patient_calendar_day:r.patient_day for i,r in cdh.iterrows()\n",
    "}\n",
    "o2['patient_day'] = o2['patient_calendar_day'].map(patient_day_map)"
   ]
  },
  {
   "cell_type": "code",
   "execution_count": 11,
   "id": "c8ddb00a-9902-4279-abf2-813c0fb8182c",
   "metadata": {},
   "outputs": [],
   "source": [
    "new_status_dict = {\n",
    "    r.patient_day:r.extubation_status for i,r in cdh.iterrows()\n",
    "}\n",
    "o2['extubation_status'] = o2['patient_day'].map(new_status_dict)"
   ]
  },
  {
   "cell_type": "code",
   "execution_count": 12,
   "id": "6568ad4d-a189-4a98-af85-cb42e1eda40e",
   "metadata": {},
   "outputs": [
    {
     "data": {
      "text/plain": [
       "intubated    4066\n",
       "extubated    1738\n",
       "Name: extubation_status, dtype: int64"
      ]
     },
     "execution_count": 12,
     "metadata": {},
     "output_type": "execute_result"
    }
   ],
   "source": [
    "o2.drop_duplicates(subset='patient_day').extubation_status.value_counts()"
   ]
  },
  {
   "cell_type": "code",
   "execution_count": 14,
   "id": "38c9a12b-59bb-49c5-83d8-9d592e415054",
   "metadata": {},
   "outputs": [],
   "source": [
    "# cdh[~cdh.patient_day.isin(o2.patient_day)]"
   ]
  },
  {
   "cell_type": "markdown",
   "id": "9e969ea2-60f5-42de-acdd-9ff19c130c92",
   "metadata": {},
   "source": [
    "Only 10 days missing from O2 report. Check these again at the end."
   ]
  },
  {
   "cell_type": "code",
   "execution_count": 15,
   "id": "ff096690-2531-4b96-b32f-cf298ce5d8a9",
   "metadata": {},
   "outputs": [],
   "source": [
    "missing_days = cdh[~cdh.patient_day.isin(o2.patient_day)].patient_day.values"
   ]
  },
  {
   "cell_type": "markdown",
   "id": "87ea92ea-5161-46b0-b177-012501d01436",
   "metadata": {},
   "source": [
    "## Check for intubated days that are mis-annotated"
   ]
  },
  {
   "cell_type": "code",
   "execution_count": 16,
   "id": "e8ee0315-0501-49a4-a272-e9b0d2d3f590",
   "metadata": {},
   "outputs": [],
   "source": [
    "o2.recorded_day = pd.to_datetime(o2.recorded_day)"
   ]
  },
  {
   "cell_type": "code",
   "execution_count": 17,
   "id": "56c3d063-152e-4f9f-b5de-0f4acd5107ff",
   "metadata": {},
   "outputs": [],
   "source": [
    "o2['time_of_day'] = [x.astype('datetime64[s]').astype(object).time() for x in o2.RECORDED_TIME.values]"
   ]
  },
  {
   "cell_type": "code",
   "execution_count": 18,
   "id": "8e95bd48-bddd-40e0-89c2-ac5e43d310ee",
   "metadata": {},
   "outputs": [],
   "source": [
    "o2 = o2.sort_values(by=['ir_id','recorded_day','RECORDED_TIME'])"
   ]
  },
  {
   "cell_type": "markdown",
   "id": "31fc81b0-fa59-4dea-9746-35556098ad5c",
   "metadata": {},
   "source": [
    "Check for intubated days that aren't all intubated or don't have at least three markers"
   ]
  },
  {
   "cell_type": "code",
   "execution_count": 19,
   "id": "2c797818-276d-43e0-9bd9-e55161c6eaee",
   "metadata": {},
   "outputs": [],
   "source": [
    "def check_intubation(sub):\n",
    "    # keep simple\n",
    "    if len(sub) > 0:\n",
    "        vent_display = ((sub.DISP_NAME == 'O2 Device') & (sub.MEAS_VALUE == 'Ventilator'))\n",
    "        vent_yes = (sub.DISP_NAME == 'Ventilator')\n",
    "        if np.all(vent_display | vent_yes):\n",
    "            return True\n",
    "        else:\n",
    "            cts = np.where(vent_display | vent_yes)[0]\n",
    "            return len(cts) >= 3"
   ]
  },
  {
   "cell_type": "code",
   "execution_count": 20,
   "id": "6ef01b20-41ee-46ea-aba1-8f43d2b95675",
   "metadata": {},
   "outputs": [],
   "source": [
    "flagged_intub = []\n",
    "intub_days = cdh[cdh.Intubation_flag == 1].patient_day.unique()\n",
    "for day in intub_days:\n",
    "    sub = o2[\n",
    "        (o2.patient_day == day) & (o2['time_of_day'] < datetime.time(8, 0))\n",
    "    ]\n",
    "    if not check_intubation(sub):\n",
    "        flagged_intub.append(day)"
   ]
  },
  {
   "cell_type": "code",
   "execution_count": 21,
   "id": "82d28e22-61c7-4964-bac7-5a4e3928bd7d",
   "metadata": {},
   "outputs": [
    {
     "data": {
      "text/plain": [
       "40"
      ]
     },
     "execution_count": 21,
     "metadata": {},
     "output_type": "execute_result"
    }
   ],
   "source": [
    "len(flagged_intub)"
   ]
  },
  {
   "cell_type": "code",
   "execution_count": 22,
   "id": "87321e50-3f8e-4dfe-98f6-02f5c387f5f3",
   "metadata": {},
   "outputs": [],
   "source": [
    "# o2[o2.patient_day == flagged_intub[11]]"
   ]
  },
  {
   "cell_type": "markdown",
   "id": "3fe06a34-a609-4983-acca-31704f1d7397",
   "metadata": {},
   "source": [
    "These are as expected- cases of partial intubation. Often times a patient is intubated before 8am, or sometimes there's a one off label like a RSBI trial, or there's an extubation event. If the previous day was ectubated, then I'll label as early intubation and we wouldn't use this day but the next for modeling. Other cases will leave as is."
   ]
  },
  {
   "cell_type": "code",
   "execution_count": 23,
   "id": "23ea72c7-215c-4871-a7af-ae8ffdd9d42b",
   "metadata": {},
   "outputs": [],
   "source": [
    "early_intub = []\n",
    "for d in flagged_intub:\n",
    "    pt_stay = d.rsplit('/',1)[0]\n",
    "    prev_day = int(d.rsplit('/',1)[1]) - 1\n",
    "    prev_day = f\"{pt_stay}/{prev_day}\"\n",
    "    if prev_day not in list(cdh.patient_day.unique()):\n",
    "        early_intub.append(d)\n",
    "    else:\n",
    "        prev_day_status = cdh[cdh.patient_day == prev_day].extubation_status.values[0]\n",
    "        if prev_day_status == 'extubated':\n",
    "            early_intub.append(d)"
   ]
  },
  {
   "cell_type": "code",
   "execution_count": 24,
   "id": "3d08d1c3-50ec-4bc9-8bc9-37a91bad2356",
   "metadata": {},
   "outputs": [
    {
     "data": {
      "text/plain": [
       "26"
      ]
     },
     "execution_count": 24,
     "metadata": {},
     "output_type": "execute_result"
    }
   ],
   "source": [
    "len(early_intub)"
   ]
  },
  {
   "cell_type": "code",
   "execution_count": 25,
   "id": "5bcad394-8957-46f6-9976-80f1379a33b5",
   "metadata": {},
   "outputs": [],
   "source": [
    "# o2[o2.patient_day == early_intub[2]]"
   ]
  },
  {
   "cell_type": "markdown",
   "id": "b409b9f6-e582-4800-af80-a1ca024ffc59",
   "metadata": {},
   "source": [
    "Looks good"
   ]
  },
  {
   "cell_type": "code",
   "execution_count": 26,
   "id": "d0fa3e18-079f-476e-959b-cd03e8bb02c0",
   "metadata": {},
   "outputs": [],
   "source": [
    "cdh.loc[cdh.patient_day.isin(early_intub),'extubation_status'] = 'early intubation'"
   ]
  },
  {
   "cell_type": "code",
   "execution_count": 27,
   "id": "f44d6e88-4db5-42da-9dd8-f50811f54a35",
   "metadata": {},
   "outputs": [
    {
     "data": {
      "text/plain": [
       "intubated           4041\n",
       "extubated           1747\n",
       "early intubation      26\n",
       "Name: extubation_status, dtype: int64"
      ]
     },
     "execution_count": 27,
     "metadata": {},
     "output_type": "execute_result"
    }
   ],
   "source": [
    "cdh.extubation_status.value_counts(dropna=False)"
   ]
  },
  {
   "cell_type": "markdown",
   "id": "d4c23aa2-426b-4d6a-8251-4df2f9bd0bae",
   "metadata": {},
   "source": [
    "Check for extubation events on intubated days"
   ]
  },
  {
   "cell_type": "code",
   "execution_count": 28,
   "id": "26979ab4-a76f-487d-886d-826340db3213",
   "metadata": {},
   "outputs": [],
   "source": [
    "def check_extubation(sub):\n",
    "    extub_yes = ((sub.DISP_NAME == \"Extubation\") & (sub.MEAS_VALUE == \"Yes\"))\n",
    "    vent_dc = ((sub.DISP_NAME == 'Vent D/C') | (sub.DISP_NAME == 'Vent D/C Time'))\n",
    "\n",
    "    return np.any(extub_yes | vent_dc)"
   ]
  },
  {
   "cell_type": "code",
   "execution_count": 29,
   "id": "84adc9da-1277-4aa1-92d4-cf0b3d2031a1",
   "metadata": {},
   "outputs": [],
   "source": [
    "flag_extub = []\n",
    "intub_days = cdh[cdh.Intubation_flag == 1].patient_day.unique()\n",
    "for day in intub_days:\n",
    "    sub = o2[\n",
    "        (o2.patient_day == day) & (o2['time_of_day'] < datetime.time(8, 0))\n",
    "    ]\n",
    "    if check_extubation(sub):\n",
    "        flag_extub.append(day)"
   ]
  },
  {
   "cell_type": "code",
   "execution_count": 30,
   "id": "5cb8c834-fe6e-4243-a73a-842b8f4abe39",
   "metadata": {},
   "outputs": [
    {
     "data": {
      "text/plain": [
       "21"
      ]
     },
     "execution_count": 30,
     "metadata": {},
     "output_type": "execute_result"
    }
   ],
   "source": [
    "len(flag_extub)"
   ]
  },
  {
   "cell_type": "code",
   "execution_count": 31,
   "id": "ecba8f03-7886-4bef-825d-84e7888eabf0",
   "metadata": {
    "scrolled": true
   },
   "outputs": [],
   "source": [
    "# o2[o2.patient_day == flag_extub[2]]"
   ]
  },
  {
   "cell_type": "code",
   "execution_count": 32,
   "id": "a4492cdb-0902-4555-9e66-f5e67a087196",
   "metadata": {},
   "outputs": [],
   "source": [
    "cdh.loc[cdh.patient_day.isin(flag_extub),'extubation_status'] = 'early extubation'"
   ]
  },
  {
   "cell_type": "markdown",
   "id": "4b3ea17a-31b4-45d3-8659-388cd24e8551",
   "metadata": {},
   "source": [
    "Update: label early intubation and extubation both as 0 under Intubation_flag"
   ]
  },
  {
   "cell_type": "code",
   "execution_count": 33,
   "id": "96aedec4-dce8-42e6-b23c-3f4d095732c9",
   "metadata": {},
   "outputs": [
    {
     "data": {
      "text/plain": [
       "extubation_status  Intubation_flag\n",
       "intubated          1                  4020\n",
       "extubated          0                  1747\n",
       "early intubation   1                    26\n",
       "early extubation   1                    21\n",
       "dtype: int64"
      ]
     },
     "execution_count": 33,
     "metadata": {},
     "output_type": "execute_result"
    }
   ],
   "source": [
    "cdh[['extubation_status','Intubation_flag']].value_counts()"
   ]
  },
  {
   "cell_type": "code",
   "execution_count": 34,
   "id": "5382083d-00bd-4888-afb4-71a6ff84f51e",
   "metadata": {},
   "outputs": [],
   "source": [
    "cdh['Intubation_flag'] = [1 if x == 'intubated' else 0 for x in cdh.extubation_status]"
   ]
  },
  {
   "cell_type": "code",
   "execution_count": 35,
   "id": "2c617b42-7b2b-4093-99e3-36f4ceea52b5",
   "metadata": {},
   "outputs": [
    {
     "data": {
      "text/plain": [
       "extubation_status  Intubation_flag\n",
       "intubated          1                  4020\n",
       "extubated          0                  1747\n",
       "early intubation   0                    26\n",
       "early extubation   0                    21\n",
       "dtype: int64"
      ]
     },
     "execution_count": 35,
     "metadata": {},
     "output_type": "execute_result"
    }
   ],
   "source": [
    "cdh[['extubation_status','Intubation_flag']].value_counts()"
   ]
  },
  {
   "cell_type": "markdown",
   "id": "791c0cbc-9494-478b-8fcc-929eebbe9ba9",
   "metadata": {},
   "source": [
    "## Check for extubated days that are mis-annotated"
   ]
  },
  {
   "cell_type": "code",
   "execution_count": 36,
   "id": "a1cb870c-186d-4ccb-9324-106d42022ef7",
   "metadata": {},
   "outputs": [],
   "source": [
    "# either all ventilation, or at least three signs of ventilation\n",
    "\n",
    "def check_intubation(sub):\n",
    "    # keep simple\n",
    "    if len(sub) > 0:\n",
    "        vent_display = ((sub.DISP_NAME == 'O2 Device') & (sub.MEAS_VALUE == 'Ventilator'))\n",
    "        vent_yes = (sub.DISP_NAME == 'Ventilator')\n",
    "        if np.all(vent_display | vent_yes):\n",
    "            return True\n",
    "        else:\n",
    "            cts = np.where(vent_display | vent_yes)[0]\n",
    "            return len(cts) >= 3"
   ]
  },
  {
   "cell_type": "code",
   "execution_count": 37,
   "id": "acf01093-90fe-4d1c-ab73-4b0f1d46ffca",
   "metadata": {},
   "outputs": [],
   "source": [
    "flag_intub = []\n",
    "extub_days = cdh[cdh.extubation_status == 'extubated'].patient_day.unique()\n",
    "for day in extub_days:\n",
    "    sub = o2[\n",
    "        (o2.patient_day == day) & (o2['time_of_day'] < datetime.time(8, 0))\n",
    "    ]\n",
    "    if check_intubation(sub):\n",
    "        flag_intub.append(day)"
   ]
  },
  {
   "cell_type": "code",
   "execution_count": 38,
   "id": "68010669-7fe5-4700-b295-06ee78b1137f",
   "metadata": {},
   "outputs": [
    {
     "data": {
      "text/plain": [
       "152"
      ]
     },
     "execution_count": 38,
     "metadata": {},
     "output_type": "execute_result"
    }
   ],
   "source": [
    "len(flag_intub)"
   ]
  },
  {
   "cell_type": "code",
   "execution_count": 39,
   "id": "9dfabb6d-3241-4059-b73f-24e26426330f",
   "metadata": {},
   "outputs": [],
   "source": [
    "# o2[o2.patient_day == flag_intub[4]]"
   ]
  },
  {
   "cell_type": "markdown",
   "id": "86c57173-b04e-471f-9080-e31375004ea9",
   "metadata": {},
   "source": [
    "These should all be intubated"
   ]
  },
  {
   "cell_type": "code",
   "execution_count": 40,
   "id": "655fb64e-4924-42a5-8b5d-972d8d5d0800",
   "metadata": {},
   "outputs": [],
   "source": [
    "cdh.loc[cdh.patient_day.isin(flag_intub),'extubation_status'] = 'intubated'"
   ]
  },
  {
   "cell_type": "code",
   "execution_count": 41,
   "id": "2ee1e58a-62d2-47e0-a6a7-a742b2e2a388",
   "metadata": {},
   "outputs": [],
   "source": [
    "cdh['Intubation_flag'] = [1 if x == 'intubated' else 0 for x in cdh.extubation_status]"
   ]
  },
  {
   "cell_type": "code",
   "execution_count": 42,
   "id": "2e7d6f5b-3288-425f-978e-85b861c5a98f",
   "metadata": {},
   "outputs": [
    {
     "data": {
      "text/plain": [
       "extubation_status  Intubation_flag\n",
       "intubated          1                  4172\n",
       "extubated          0                  1595\n",
       "early intubation   0                    26\n",
       "early extubation   0                    21\n",
       "dtype: int64"
      ]
     },
     "execution_count": 42,
     "metadata": {},
     "output_type": "execute_result"
    }
   ],
   "source": [
    "cdh[['extubation_status','Intubation_flag']].value_counts()"
   ]
  },
  {
   "cell_type": "markdown",
   "id": "d08b5dde-71a5-4c8b-b874-6f686620d7b2",
   "metadata": {},
   "source": [
    "## Label fail if reintubated within two days"
   ]
  },
  {
   "cell_type": "code",
   "execution_count": 43,
   "id": "594349c4",
   "metadata": {},
   "outputs": [],
   "source": [
    "df = cdh.copy()"
   ]
  },
  {
   "cell_type": "code",
   "execution_count": 44,
   "id": "5b05017f",
   "metadata": {},
   "outputs": [],
   "source": [
    "def first_intubation_date(x):\n",
    "    r = x.loc[x.Intubation_flag.eq(1)].head(1)\n",
    "    if r.shape[0]:\n",
    "        return r.day_bucket_starts.values[0]\n",
    "    return np.nan"
   ]
  },
  {
   "cell_type": "code",
   "execution_count": 45,
   "id": "a40a6512",
   "metadata": {},
   "outputs": [],
   "source": [
    "first_intub_by_pt_stay = df.groupby(['ir_id', 'stay']).apply(first_intubation_date)"
   ]
  },
  {
   "cell_type": "code",
   "execution_count": 46,
   "id": "d66f058c",
   "metadata": {},
   "outputs": [],
   "source": [
    "THRESHOLD = 2\n",
    "for k, df_slice in df.groupby(['ir_id', 'stay']):\n",
    "    intub = False\n",
    "    prev_slice = None\n",
    "    for _, intub_slice in df_slice.groupby(\n",
    "        (df_slice.Intubation_flag.shift() != df_slice.Intubation_flag).cumsum()\n",
    "    ):\n",
    "        intub_flag = intub_slice.Intubation_flag.values[0] == 1\n",
    "        if intub_flag:\n",
    "            # df.loc[intub_slice.index, 'extubation_status'] = 'intubated'\n",
    "            if intub and prev_slice is not None and prev_slice.shape[0] <= THRESHOLD:\n",
    "                df.loc[prev_slice.index, 'extubation_status'] = 'failed'\n",
    "            intub = True\n",
    "        else:\n",
    "            if intub:\n",
    "                # check next stay intubation date against the current\n",
    "                cur_pt = df_slice.ir_id.values[0]\n",
    "                cur_stay = df_slice.stay.values[0]\n",
    "                cur_date = pd.to_datetime(intub_slice.day_bucket_starts).values[0]\n",
    "                next_stay_key = (cur_pt, cur_stay + 1)\n",
    "                if next_stay_key in first_intub_by_pt_stay.index:\n",
    "                    next_intub_date = pd.to_datetime(first_intub_by_pt_stay[next_stay_key])\n",
    "                    delta = (next_intub_date - cur_date).days\n",
    "                    if delta <= THRESHOLD:\n",
    "                        df.loc[intub_slice.index, 'extubation_status'] = 'failed'\n",
    "                    else:\n",
    "                        pass\n",
    "                        # df.loc[intub_slice.index, 'extubation_status'] = 'successful'\n",
    "                else:\n",
    "                    pass\n",
    "                    # df.loc[intub_slice.index, 'extubation_status'] = 'successful'\n",
    "            else:\n",
    "                pass\n",
    "                # df.loc[intub_slice.index, 'extubation_status'] = 'preintubation'\n",
    "        prev_slice = intub_slice"
   ]
  },
  {
   "cell_type": "code",
   "execution_count": 47,
   "id": "8a85bb09",
   "metadata": {},
   "outputs": [
    {
     "data": {
      "text/plain": [
       "intubated           4172\n",
       "extubated           1565\n",
       "failed                36\n",
       "early intubation      24\n",
       "early extubation      17\n",
       "Name: extubation_status, dtype: int64"
      ]
     },
     "execution_count": 47,
     "metadata": {},
     "output_type": "execute_result"
    }
   ],
   "source": [
    "df.extubation_status.value_counts()"
   ]
  },
  {
   "cell_type": "code",
   "execution_count": 48,
   "id": "bbfedfe6-27db-4901-9ed7-2d99bda8849c",
   "metadata": {},
   "outputs": [],
   "source": [
    "fails = df[df.extubation_status == 'failed'].patient_day.values"
   ]
  },
  {
   "cell_type": "code",
   "execution_count": 49,
   "id": "fa11a7c8-78f5-4d7a-a291-e598eb077039",
   "metadata": {},
   "outputs": [],
   "source": [
    "def examine_fail(df,day):\n",
    "    num_day = day.rsplit('/',1)[1]\n",
    "    start_str = day.rsplit('/',1)[0]\n",
    "    trail_day = f\"{start_str}/{int(num_day)+1}\"\n",
    "    trail_day_2 = f\"{start_str}/{int(num_day)+2}\"\n",
    "    lead_day = f\"{start_str}/{int(num_day)-1}\"\n",
    "    return df[df.patient_day.isin([lead_day,day,trail_day,trail_day_2])][['Intubation_flag','extubation_status']]"
   ]
  },
  {
   "cell_type": "code",
   "execution_count": 50,
   "id": "d8400d21-fa92-45c9-8f9a-02b0e438e607",
   "metadata": {},
   "outputs": [],
   "source": [
    "# examine_fail(fails[8])"
   ]
  },
  {
   "cell_type": "markdown",
   "id": "4ea34844-346e-4bd4-bfc4-881bdb6fd12c",
   "metadata": {},
   "source": [
    "These look good to go"
   ]
  },
  {
   "cell_type": "code",
   "execution_count": 51,
   "id": "a5689879-f33d-4891-9373-aa447019f944",
   "metadata": {},
   "outputs": [],
   "source": [
    "cdh.extubation_status = df.extubation_status.values"
   ]
  },
  {
   "cell_type": "markdown",
   "id": "cd2f0806",
   "metadata": {},
   "source": [
    "### Label CMO"
   ]
  },
  {
   "cell_type": "markdown",
   "id": "4cac6dab-324a-4006-952b-517e24a54048",
   "metadata": {},
   "source": [
    "Pull death info from separate sheet"
   ]
  },
  {
   "cell_type": "code",
   "execution_count": 52,
   "id": "f3eadaac-68c8-496b-b095-52d85341597a",
   "metadata": {},
   "outputs": [],
   "source": [
    "endpoints = pd.read_csv(endpoints_path)"
   ]
  },
  {
   "cell_type": "code",
   "execution_count": 53,
   "id": "8168aa9a-f320-433d-bee0-6254b2933738",
   "metadata": {},
   "outputs": [],
   "source": [
    "endpoints.death_date = pd.to_datetime(endpoints.death_date)"
   ]
  },
  {
   "cell_type": "code",
   "execution_count": 54,
   "id": "cd210e31-2371-4860-be9d-fb6f85e02274",
   "metadata": {},
   "outputs": [],
   "source": [
    "endpoints = endpoints[endpoints.death_date.notnull()].drop_duplicates(subset='ir_id')"
   ]
  },
  {
   "cell_type": "code",
   "execution_count": 55,
   "id": "7d113f18",
   "metadata": {},
   "outputs": [],
   "source": [
    "cdh = cdh.merge(\n",
    "    endpoints[['ir_id','death_date']],\n",
    "    on='ir_id',\n",
    "    how='left'\n",
    ")"
   ]
  },
  {
   "cell_type": "code",
   "execution_count": 56,
   "id": "0cbc380b-85b9-48cc-bd29-24754513ce8b",
   "metadata": {},
   "outputs": [
    {
     "data": {
      "text/plain": [
       "False    241\n",
       "True     211\n",
       "Name: death_date, dtype: int64"
      ]
     },
     "execution_count": 56,
     "metadata": {},
     "output_type": "execute_result"
    }
   ],
   "source": [
    "cdh.drop_duplicates(subset='ir_id').death_date.isnull().value_counts()"
   ]
  },
  {
   "cell_type": "markdown",
   "id": "eb1ec6ca-5371-4a48-ba4c-365cb82baa96",
   "metadata": {},
   "source": [
    "### If extubated within two days of death, then labels as dni (show histogram)"
   ]
  },
  {
   "cell_type": "code",
   "execution_count": 57,
   "id": "1761c0d0-7ddd-4c57-8d36-9746a42e82a8",
   "metadata": {},
   "outputs": [
    {
     "data": {
      "text/plain": [
       "extubation_status  Intubation_flag\n",
       "intubated          1                  4172\n",
       "extubated          0                  1565\n",
       "failed             0                    36\n",
       "early intubation   0                    24\n",
       "early extubation   0                    17\n",
       "dtype: int64"
      ]
     },
     "execution_count": 57,
     "metadata": {},
     "output_type": "execute_result"
    }
   ],
   "source": [
    "cdh[['extubation_status','Intubation_flag']].value_counts()"
   ]
  },
  {
   "cell_type": "code",
   "execution_count": 58,
   "id": "f8003555-8dd5-414d-a103-6aca75ef8d0f",
   "metadata": {},
   "outputs": [],
   "source": [
    "df = cdh.set_index('patient_day')"
   ]
  },
  {
   "cell_type": "code",
   "execution_count": 59,
   "id": "f35bdcb8",
   "metadata": {},
   "outputs": [],
   "source": [
    "def first_day_last_extub_fun(x):\n",
    "    last = x.iloc[-1, :]\n",
    "    if last.extubation_status not in ['extubated','early extubation']:\n",
    "        return\n",
    "    # find first row of last stretch of extubation\n",
    "    i = None\n",
    "    for idx in reversed(x.index):\n",
    "        if x.loc[idx].Intubation_flag == 1:\n",
    "            break\n",
    "        i = idx\n",
    "    return x.loc[i]\n",
    "    \n",
    "first_day_last_extub = df.groupby(['ir_id']).apply(first_day_last_extub_fun)"
   ]
  },
  {
   "cell_type": "code",
   "execution_count": 60,
   "id": "8f266951",
   "metadata": {},
   "outputs": [],
   "source": [
    "first_day_last_extub = first_day_last_extub[first_day_last_extub.ir_id.notnull()]\n",
    "first_day_last_extub.stay = first_day_last_extub.stay.astype(int)\n",
    "first_day_last_extub.day = first_day_last_extub.day.astype(int)\n",
    "first_day_last_extub.index = (\n",
    "    first_day_last_extub.ir_id.astype(int).astype(str)\n",
    "    + '/' + first_day_last_extub.stay.astype(int).astype(str)\n",
    "    + '/' + first_day_last_extub.day.astype(int).astype(str)\n",
    ")\n",
    "\n",
    "first_day_last_extub['death_date'] = pd.to_datetime(\n",
    "    df.death_date[first_day_last_extub.index]\n",
    ")\n",
    "first_day_last_extub['day_bucket_starts'] = pd.to_datetime(\n",
    "    df.day_bucket_starts[first_day_last_extub.index]\n",
    ")\n",
    "first_day_last_extub['time_to_death'] = (\n",
    "    first_day_last_extub.death_date - first_day_last_extub.day_bucket_starts\n",
    ").dt.days"
   ]
  },
  {
   "cell_type": "code",
   "execution_count": 61,
   "id": "c82f158a",
   "metadata": {},
   "outputs": [
    {
     "data": {
      "image/png": "[encoded data removed]",
      "text/plain": [
       "<Figure size 800x300 with 1 Axes>"
      ]
     },
     "metadata": {},
     "output_type": "display_data"
    }
   ],
   "source": [
    "fig, ax = plt.subplots(figsize=(8, 3))\n",
    "discharge_deaths = first_day_last_extub[first_day_last_extub.death_date.notnull()]\n",
    "discharge_deaths.time_to_death.plot.hist(bins=50,ax=ax)\n",
    "ax.set_xlabel('Days from first day of last extubation to death (discharge deaths)')\n",
    "plt.show()"
   ]
  },
  {
   "cell_type": "code",
   "execution_count": 62,
   "id": "936000b9-a268-44d7-8e41-125ca8b5498f",
   "metadata": {},
   "outputs": [
    {
     "data": {
      "text/plain": [
       "103"
      ]
     },
     "execution_count": 62,
     "metadata": {},
     "output_type": "execute_result"
    }
   ],
   "source": [
    "len(discharge_deaths)"
   ]
  },
  {
   "cell_type": "code",
   "execution_count": 63,
   "id": "c1350bfa-45e4-4e46-b3aa-37f1e62cebf7",
   "metadata": {},
   "outputs": [
    {
     "data": {
      "image/png": "[encoded data removed]",
      "text/plain": [
       "<Figure size 800x300 with 1 Axes>"
      ]
     },
     "metadata": {},
     "output_type": "display_data"
    }
   ],
   "source": [
    "fig, ax = plt.subplots(figsize=(8, 3))\n",
    "discharge_deaths[discharge_deaths.time_to_death < 10].time_to_death.plot.hist(bins=50,ax=ax)\n",
    "ax.set_xlabel('Days from first day of last extubation to death (discharge deaths)')\n",
    "plt.show()"
   ]
  },
  {
   "cell_type": "markdown",
   "id": "a4271586-034c-443d-9b3f-a9706c1590d5",
   "metadata": {},
   "source": [
    "If within two days, flag as CMO"
   ]
  },
  {
   "cell_type": "code",
   "execution_count": 64,
   "id": "aea9ca0f-24f7-44b8-9e77-b7c343b49a28",
   "metadata": {},
   "outputs": [],
   "source": [
    "non_dni_early_deaths = first_day_last_extub.loc[\n",
    "    first_day_last_extub.time_to_death.le(THRESHOLD)\n",
    "]"
   ]
  },
  {
   "cell_type": "code",
   "execution_count": 65,
   "id": "c5636480-eda8-4e46-ba1b-9783e432dfe5",
   "metadata": {},
   "outputs": [
    {
     "data": {
      "text/plain": [
       "45"
      ]
     },
     "execution_count": 65,
     "metadata": {},
     "output_type": "execute_result"
    }
   ],
   "source": [
    "len(non_dni_early_deaths)"
   ]
  },
  {
   "cell_type": "code",
   "execution_count": 66,
   "id": "1d8b31aa",
   "metadata": {},
   "outputs": [],
   "source": [
    "for i, r in non_dni_early_deaths.iterrows():\n",
    "    pt_day = r.day\n",
    "    while True:\n",
    "        i = f\"{int(r.ir_id)}/{int(r.stay)}/{int(pt_day)}\"\n",
    "        pt_stay = f\"{int(r.ir_id)}/{int(r.stay)}\"\n",
    "        if pt_day > df[df.Patient_id_2 == pt_stay].day.max() or df.Intubation_flag[i] == 1:\n",
    "            break\n",
    "        df.loc[i, 'extubation_status'] = 'suspected dni'\n",
    "        pt_day += 1"
   ]
  },
  {
   "cell_type": "code",
   "execution_count": 67,
   "id": "f163342d",
   "metadata": {},
   "outputs": [
    {
     "data": {
      "text/plain": [
       "intubated           4172\n",
       "extubated           1525\n",
       "suspected dni         50\n",
       "failed                36\n",
       "early intubation      24\n",
       "early extubation       7\n",
       "Name: extubation_status, dtype: int64"
      ]
     },
     "execution_count": 67,
     "metadata": {},
     "output_type": "execute_result"
    }
   ],
   "source": [
    "df.extubation_status.value_counts(dropna=False)"
   ]
  },
  {
   "cell_type": "code",
   "execution_count": 68,
   "id": "e0643ad8-2ba9-4846-9fba-62d85eef7b53",
   "metadata": {},
   "outputs": [],
   "source": [
    "dni_days = df[df.extubation_status == 'suspected dni'].index.values"
   ]
  },
  {
   "cell_type": "code",
   "execution_count": 69,
   "id": "249b96c8-d60d-48dd-b4a3-f5bd12909e93",
   "metadata": {},
   "outputs": [],
   "source": [
    "# df[df.extubation_status == 'suspected dni'].Patient_id_2.value_counts()"
   ]
  },
  {
   "cell_type": "code",
   "execution_count": 70,
   "id": "2254c06a-4a4a-4968-9334-308dbed95e9a",
   "metadata": {},
   "outputs": [],
   "source": [
    "df.patient_day = df.index"
   ]
  },
  {
   "cell_type": "markdown",
   "id": "f4bbc9ca-b5b7-4d2f-9edd-680395326b74",
   "metadata": {},
   "source": [
    "## Same-day fails"
   ]
  },
  {
   "cell_type": "code",
   "execution_count": 72,
   "id": "15d1922e-8cd7-42db-98e8-19b1c9ef212e",
   "metadata": {},
   "outputs": [],
   "source": [
    "def check_failed_extubation(sub):\n",
    "    if len(sub) == 0:\n",
    "        return False\n",
    "    extub_yes = ((sub.DISP_NAME == \"Extubation\") & (sub.MEAS_VALUE == \"Yes\"))\n",
    "    vent_dc = ((sub.DISP_NAME == 'Vent D/C') | (sub.DISP_NAME == 'Vent D/C Time'))\n",
    "    extub_check =  np.where(extub_yes | vent_dc)[0]\n",
    "\n",
    "    vent_display = ((sub.DISP_NAME == 'O2 Device') & (sub.MEAS_VALUE == 'Ventilator'))\n",
    "    vent_yes = (sub.DISP_NAME == 'Ventilator')\n",
    "    intub_yes = np.where(vent_display | vent_yes)[0]\n",
    "\n",
    "    pt_day = sub.patient_day.values[0]\n",
    "    stay = pt_day.rsplit('/',1)[0]\n",
    "    day = pt_day.rsplit('/',1)[1]\n",
    "    next_day = f\"{stay}/{int(day)+1}\"\n",
    "    if next_day in list(cdh.patient_day):\n",
    "        next_day_status = cdh[cdh.patient_day == next_day].extubation_status.values[0]\n",
    "    else:\n",
    "        next_day_status = 'missing'\n",
    "\n",
    "\n",
    "    # at least three markers of intubation after extubation\n",
    "    if len(extub_check) > 0:\n",
    "        if next_day_status == 'intubated':\n",
    "            return True\n",
    "        elif len(intub_yes) > 0: \n",
    "            num_greater = len([x for x in intub_yes if x > max(extub_check)])\n",
    "            return num_greater >= 3\n",
    "        else:\n",
    "            return False\n",
    "    else:\n",
    "        return False"
   ]
  },
  {
   "cell_type": "code",
   "execution_count": 73,
   "id": "730a2489-0cb6-493b-9e6b-e19639101df6",
   "metadata": {},
   "outputs": [],
   "source": [
    "check_fail = []\n",
    "intub_days = cdh[cdh.extubation_status == 'intubated'].patient_day.unique()\n",
    "for day in intub_days:\n",
    "    sub = o2[(o2.patient_day == day) & (o2['time_of_day'] >= datetime.time(8, 0))]\n",
    "    if check_failed_extubation(sub):\n",
    "        check_fail.append(day)"
   ]
  },
  {
   "cell_type": "code",
   "execution_count": 74,
   "id": "5a5dccfa-fb77-4fb1-8f92-9d646d591089",
   "metadata": {},
   "outputs": [
    {
     "data": {
      "text/plain": [
       "14"
      ]
     },
     "execution_count": 74,
     "metadata": {},
     "output_type": "execute_result"
    }
   ],
   "source": [
    "len(check_fail)"
   ]
  },
  {
   "cell_type": "code",
   "execution_count": 75,
   "id": "82637051-c83e-494d-8756-be73b9867188",
   "metadata": {
    "scrolled": true
   },
   "outputs": [],
   "source": [
    "# o2[o2.patient_day == check_fail[4]]"
   ]
  },
  {
   "cell_type": "code",
   "execution_count": 76,
   "id": "adb11239-7e71-4c58-bba9-ce4e157d52e7",
   "metadata": {},
   "outputs": [],
   "source": [
    "cdh.extubation_status = df.extubation_status.values"
   ]
  },
  {
   "cell_type": "code",
   "execution_count": 77,
   "id": "a4d83c09-9650-4d6f-a7d3-43530e5becb4",
   "metadata": {},
   "outputs": [],
   "source": [
    "cdh.loc[cdh.patient_day.isin(check_fail),'extubation_status'] = 'same-day fail'"
   ]
  },
  {
   "cell_type": "code",
   "execution_count": 78,
   "id": "44d4cc9c-a5d3-4e24-86f4-e6b3f74dc9cb",
   "metadata": {},
   "outputs": [],
   "source": [
    "cdh.Intubation_flag = [1 if x == 'intubated' else 0 for x in cdh.extubation_status]"
   ]
  },
  {
   "cell_type": "code",
   "execution_count": 79,
   "id": "45231df3-dae8-462b-99ef-8ee1cf9826dc",
   "metadata": {},
   "outputs": [
    {
     "data": {
      "text/plain": [
       "extubation_status  Intubation_flag\n",
       "intubated          1                  4158\n",
       "extubated          0                  1525\n",
       "suspected dni      0                    50\n",
       "failed             0                    36\n",
       "early intubation   0                    24\n",
       "same-day fail      0                    14\n",
       "early extubation   0                     7\n",
       "dtype: int64"
      ]
     },
     "execution_count": 79,
     "metadata": {},
     "output_type": "execute_result"
    }
   ],
   "source": [
    "cdh[['extubation_status','Intubation_flag']].value_counts()"
   ]
  },
  {
   "cell_type": "markdown",
   "id": "dd723b41-62a9-4903-93d4-52c0843e3f0e",
   "metadata": {},
   "source": [
    "## Preintubated days"
   ]
  },
  {
   "cell_type": "code",
   "execution_count": 80,
   "id": "9703cbc4-39bd-40c6-bda1-4ef93b4398ec",
   "metadata": {},
   "outputs": [],
   "source": [
    "preintub_days = []\n",
    "for p in cdh.Patient_id_2.unique():\n",
    "    sub = cdh[cdh.Patient_id_2 == p]\n",
    "    pt_day = sub.day.values[0]\n",
    "    i = sub.patient_day.values[0]\n",
    "    while pt_day <= sub.day.max() and sub[sub.patient_day == i].Intubation_flag.values[0] == 0:\n",
    "        preintub_days.append(i)\n",
    "        pt_day += 1\n",
    "        i = f\"{p}/{pt_day}\""
   ]
  },
  {
   "cell_type": "code",
   "execution_count": 81,
   "id": "ff60491c-82d1-4280-bf3e-a9fde8d0ee4c",
   "metadata": {},
   "outputs": [
    {
     "data": {
      "text/plain": [
       "787"
      ]
     },
     "execution_count": 81,
     "metadata": {},
     "output_type": "execute_result"
    }
   ],
   "source": [
    "len(preintub_days)"
   ]
  },
  {
   "cell_type": "code",
   "execution_count": 82,
   "id": "004f4e84-6d38-4f71-bc19-b43fb736f00e",
   "metadata": {},
   "outputs": [
    {
     "data": {
      "text/plain": [
       "5814"
      ]
     },
     "execution_count": 82,
     "metadata": {},
     "output_type": "execute_result"
    }
   ],
   "source": [
    "len(cdh)"
   ]
  },
  {
   "cell_type": "code",
   "execution_count": 83,
   "id": "888c43f0-bc9f-4fe9-a232-1ccd1080683a",
   "metadata": {},
   "outputs": [],
   "source": [
    "cdh.loc[cdh.patient_day.isin(preintub_days),'extubation_status'] = 'preintubated'"
   ]
  },
  {
   "cell_type": "code",
   "execution_count": 84,
   "id": "adc2e926-c498-4080-b10e-44a37e0b6e8b",
   "metadata": {},
   "outputs": [
    {
     "data": {
      "text/plain": [
       "intubated           4158\n",
       "preintubated         787\n",
       "extubated            778\n",
       "failed                36\n",
       "suspected dni         35\n",
       "same-day fail         13\n",
       "early extubation       6\n",
       "early intubation       1\n",
       "Name: extubation_status, dtype: int64"
      ]
     },
     "execution_count": 84,
     "metadata": {},
     "output_type": "execute_result"
    }
   ],
   "source": [
    "cdh.extubation_status.value_counts()"
   ]
  },
  {
   "cell_type": "markdown",
   "id": "daac51c8-e369-49d7-a9f1-731c845e924e",
   "metadata": {},
   "source": [
    "## Flag days that have trach collar"
   ]
  },
  {
   "cell_type": "code",
   "execution_count": 85,
   "id": "66854d22-9fd5-4fad-9120-3222ed7a94af",
   "metadata": {},
   "outputs": [],
   "source": [
    "def trach_check(sub,min_cts=3): \n",
    "    trach_indices = np.where((sub.DISP_NAME == 'O2 Device') & (sub.MEAS_VALUE == 'Trach collar'))\n",
    "    if len(trach_indices) > 0:\n",
    "        if len(trach_indices[0]) >= min_cts:\n",
    "            return True\n",
    "        else:\n",
    "            return False\n",
    "    else:\n",
    "        return False"
   ]
  },
  {
   "cell_type": "code",
   "execution_count": 86,
   "id": "9cc4493c-f46d-4c90-ba93-7b6490a71b05",
   "metadata": {},
   "outputs": [],
   "source": [
    "trach_pts = []\n",
    "for pt in o2.ir_id.unique():\n",
    "    sub = o2[o2.ir_id == pt]\n",
    "    if trach_check(sub,min_cts=3):\n",
    "        trach_pts.append(pt)"
   ]
  },
  {
   "cell_type": "code",
   "execution_count": 87,
   "id": "e4281e7b-7984-4929-95cc-7f51bfeab4ed",
   "metadata": {},
   "outputs": [
    {
     "data": {
      "text/plain": [
       "25"
      ]
     },
     "execution_count": 87,
     "metadata": {},
     "output_type": "execute_result"
    }
   ],
   "source": [
    "len(trach_pts)"
   ]
  },
  {
   "cell_type": "markdown",
   "id": "9876809f-1e93-4f20-b72f-ca22ccd15baa",
   "metadata": {},
   "source": [
    "Wow only 25 patients had a trach collar here."
   ]
  },
  {
   "cell_type": "code",
   "execution_count": 88,
   "id": "61236666-5727-415e-a963-995acb746b80",
   "metadata": {},
   "outputs": [],
   "source": [
    "cdh['trach_received'] = [True if x in trach_pts else False for x in cdh.ir_id]"
   ]
  },
  {
   "cell_type": "markdown",
   "id": "9eb704df-6f9b-48f8-8ff7-167e8014931a",
   "metadata": {},
   "source": [
    "## Save unfiltered data with annotations"
   ]
  },
  {
   "cell_type": "code",
   "execution_count": 89,
   "id": "299df9d3-332b-4428-b823-091107c4cd22",
   "metadata": {},
   "outputs": [],
   "source": [
    "# cdh.to_csv()"
   ]
  },
  {
   "cell_type": "markdown",
   "id": "c6ed579c-e99e-4ce1-95cf-e356493393ab",
   "metadata": {},
   "source": [
    "## Trim data for modeling"
   ]
  },
  {
   "cell_type": "code",
   "execution_count": 90,
   "id": "9f90f14d-bb31-4e3c-8d20-b4a44e3e0735",
   "metadata": {},
   "outputs": [],
   "source": [
    "trimmed_list = []\n",
    "\n",
    "for patient in cdh['Patient_id_2'].unique():\n",
    "    sub = cdh[cdh['Patient_id_2'] == patient]\n",
    "    labels = list(sub['Intubation_flag'][1:])\n",
    "    next_day_ext_status = list(sub['extubation_status'][1:])\n",
    "    features = sub.iloc[:-1,:]\n",
    "    features['labels'] = labels\n",
    "    features['next_day_extubation_status'] = next_day_ext_status\n",
    "    trimmed_list.append(features)\n",
    "\n",
    "trimmed_df = pd.concat(trimmed_list, ignore_index=False)"
   ]
  },
  {
   "cell_type": "code",
   "execution_count": 91,
   "id": "0007991b-b92c-4518-8e3c-fd7c6934bbe1",
   "metadata": {},
   "outputs": [],
   "source": [
    "filtered_list = []\n",
    "for p in trimmed_df.Patient_id_2.unique():\n",
    "    sub = trimmed_df[trimmed_df.Patient_id_2 == p]\n",
    "    sub = sub[~sub.extubation_status.isin(['preintubated','early intubation'])]\n",
    "    df_patient_index = sub[\n",
    "    sub.next_day_extubation_status.isin(['extubated','early extubation','failed','same-day fail','ECMO non-successful'])].first_valid_index()  \n",
    "    if df_patient_index is not None:\n",
    "        df_patient = sub.loc[:df_patient_index]\n",
    "        filtered_list.append(df_patient)\n",
    "    elif len(sub[sub.next_day_extubation_status.isin(['dni','suspected dni'])]) > 0:\n",
    "        df_patient_index = sub[\n",
    "        sub.next_day_extubation_status.isin(['dni','suspected dni'])].first_valid_index()\n",
    "        df_patient = sub.loc[:df_patient_index-1]\n",
    "        filtered_list.append(df_patient)\n",
    "    else:\n",
    "        filtered_list.append(sub)\n",
    "filtered_df = pd.concat(filtered_list, ignore_index=False)"
   ]
  },
  {
   "cell_type": "code",
   "execution_count": 92,
   "id": "b9970fea-41fd-4e1d-93f2-20c7bb8e224e",
   "metadata": {},
   "outputs": [
    {
     "data": {
      "text/plain": [
       "3437"
      ]
     },
     "execution_count": 92,
     "metadata": {},
     "output_type": "execute_result"
    }
   ],
   "source": [
    "len(filtered_df)"
   ]
  },
  {
   "cell_type": "code",
   "execution_count": 93,
   "id": "2963fcce-14d6-4605-841f-7bb562de13dc",
   "metadata": {},
   "outputs": [
    {
     "data": {
      "text/plain": [
       "412"
      ]
     },
     "execution_count": 93,
     "metadata": {},
     "output_type": "execute_result"
    }
   ],
   "source": [
    "filtered_df.Patient_id_2.nunique()"
   ]
  },
  {
   "cell_type": "code",
   "execution_count": 94,
   "id": "7eb26e3a-534b-4329-9885-fe8a57d59bc0",
   "metadata": {},
   "outputs": [
    {
     "data": {
      "text/plain": [
       "5814"
      ]
     },
     "execution_count": 94,
     "metadata": {},
     "output_type": "execute_result"
    }
   ],
   "source": [
    "len(cdh)"
   ]
  },
  {
   "cell_type": "code",
   "execution_count": 95,
   "id": "bb27cac4-55cc-4d87-9374-88b9efd8fccf",
   "metadata": {},
   "outputs": [
    {
     "data": {
      "text/plain": [
       "518"
      ]
     },
     "execution_count": 95,
     "metadata": {},
     "output_type": "execute_result"
    }
   ],
   "source": [
    "cdh.Patient_id_2.nunique()"
   ]
  },
  {
   "cell_type": "code",
   "execution_count": 96,
   "id": "fd82197a-89f8-49d9-bf68-5d60ff88a4c8",
   "metadata": {},
   "outputs": [
    {
     "data": {
      "text/plain": [
       "intubated    3437\n",
       "Name: extubation_status, dtype: int64"
      ]
     },
     "execution_count": 96,
     "metadata": {},
     "output_type": "execute_result"
    }
   ],
   "source": [
    "filtered_df.extubation_status.value_counts(dropna=False)"
   ]
  },
  {
   "cell_type": "code",
   "execution_count": 97,
   "id": "1b399202-3194-4e15-af99-6d6eb118eef8",
   "metadata": {},
   "outputs": [
    {
     "data": {
      "text/plain": [
       "intubated           3202\n",
       "extubated            197\n",
       "failed                22\n",
       "same-day fail         10\n",
       "early extubation       6\n",
       "Name: next_day_extubation_status, dtype: int64"
      ]
     },
     "execution_count": 97,
     "metadata": {},
     "output_type": "execute_result"
    }
   ],
   "source": [
    "filtered_df.next_day_extubation_status.value_counts(dropna=False)"
   ]
  },
  {
   "cell_type": "code",
   "execution_count": 98,
   "id": "b8bd08cd-798b-4b25-9db1-b2f45cd495e9",
   "metadata": {},
   "outputs": [],
   "source": [
    "fail_pts = filtered_df[\n",
    "(filtered_df.next_day_extubation_status.isin(['failed','same-day fail']))\n",
    "& (~filtered_df.ir_id.isin(trach_pts))\n",
    "].ir_id.unique()"
   ]
  },
  {
   "cell_type": "code",
   "execution_count": 99,
   "id": "aa6d3a47-a38d-4bfc-b207-b7b9e5cbcda0",
   "metadata": {},
   "outputs": [],
   "source": [
    "filtered_pts = list(trach_pts).copy()\n",
    "filtered_pts.extend(fail_pts)\n",
    "use_df = filtered_df[~filtered_df.ir_id.isin(filtered_pts)]"
   ]
  },
  {
   "cell_type": "code",
   "execution_count": 100,
   "id": "5387284c-69fd-4ce7-93ca-47e4662729b8",
   "metadata": {},
   "outputs": [],
   "source": [
    "fail_df = filtered_df[filtered_df.ir_id.isin(fail_pts)]\n",
    "trach_df = filtered_df[filtered_df.ir_id.isin(trach_pts)]"
   ]
  },
  {
   "cell_type": "code",
   "execution_count": 101,
   "id": "d2600dac-9b8b-40c6-93e4-c666b7ce7939",
   "metadata": {},
   "outputs": [
    {
     "data": {
      "text/plain": [
       "349"
      ]
     },
     "execution_count": 101,
     "metadata": {},
     "output_type": "execute_result"
    }
   ],
   "source": [
    "use_df.Patient_id_2.nunique()"
   ]
  },
  {
   "cell_type": "code",
   "execution_count": 102,
   "id": "9c02217d-956a-4a94-96e0-fc3d68eee43c",
   "metadata": {},
   "outputs": [
    {
     "data": {
      "text/plain": [
       "30"
      ]
     },
     "execution_count": 102,
     "metadata": {},
     "output_type": "execute_result"
    }
   ],
   "source": [
    "fail_df.Patient_id_2.nunique()"
   ]
  },
  {
   "cell_type": "code",
   "execution_count": 103,
   "id": "4154c283-dc01-446e-987a-3232301b617d",
   "metadata": {},
   "outputs": [
    {
     "data": {
      "text/plain": [
       "33"
      ]
     },
     "execution_count": 103,
     "metadata": {},
     "output_type": "execute_result"
    }
   ],
   "source": [
    "trach_df.Patient_id_2.nunique()"
   ]
  },
  {
   "cell_type": "markdown",
   "id": "a3af69ac-b160-4499-97d8-dd988cab1cdb",
   "metadata": {},
   "source": [
    "Additionally, save train/val/test splits for any internal CDH models we wish to try out"
   ]
  },
  {
   "cell_type": "code",
   "execution_count": 104,
   "id": "f79fecb5-6869-4795-9ffd-a864162b2606",
   "metadata": {},
   "outputs": [],
   "source": [
    "train_patients, test_patients = train_test_split(list(use_df.ir_id.unique()), test_size=0.2, random_state=42)\n",
    "\n",
    "new_train_patients, val_patients = train_test_split(train_patients, test_size=0.2, random_state=42)\n",
    "\n",
    "train_df = use_df[use_df.ir_id.isin(new_train_patients)]\n",
    "val_df = use_df[use_df.ir_id.isin(val_patients)]\n",
    "test_df = use_df[use_df.ir_id.isin(test_patients)]"
   ]
  },
  {
   "cell_type": "code",
   "execution_count": 105,
   "id": "3547a111-ba68-4990-8cb2-123069da517e",
   "metadata": {},
   "outputs": [
    {
     "data": {
      "text/plain": [
       "222"
      ]
     },
     "execution_count": 105,
     "metadata": {},
     "output_type": "execute_result"
    }
   ],
   "source": [
    "train_df.Patient_id_2.nunique()"
   ]
  },
  {
   "cell_type": "code",
   "execution_count": 106,
   "id": "899ca8c2-89aa-4d5a-b472-0ea474e37b1d",
   "metadata": {},
   "outputs": [
    {
     "data": {
      "text/plain": [
       "58"
      ]
     },
     "execution_count": 106,
     "metadata": {},
     "output_type": "execute_result"
    }
   ],
   "source": [
    "val_df.Patient_id_2.nunique()"
   ]
  },
  {
   "cell_type": "code",
   "execution_count": 107,
   "id": "5e57b441-e86a-4e78-9025-d6e52378bb0d",
   "metadata": {},
   "outputs": [
    {
     "data": {
      "text/plain": [
       "69"
      ]
     },
     "execution_count": 107,
     "metadata": {},
     "output_type": "execute_result"
    }
   ],
   "source": [
    "test_df.Patient_id_2.nunique()"
   ]
  },
  {
   "cell_type": "code",
   "execution_count": 108,
   "id": "8f166642-f924-48b7-8a06-f6b7e06fa5a2",
   "metadata": {},
   "outputs": [
    {
     "data": {
      "text/plain": [
       "intubated           511\n",
       "extubated            39\n",
       "early extubation      1\n",
       "Name: next_day_extubation_status, dtype: int64"
      ]
     },
     "execution_count": 108,
     "metadata": {},
     "output_type": "execute_result"
    }
   ],
   "source": [
    "test_df.next_day_extubation_status.value_counts()"
   ]
  },
  {
   "cell_type": "code",
   "execution_count": 109,
   "id": "13b9ac23-b4c5-4bc2-bb3c-abff1d098708",
   "metadata": {},
   "outputs": [
    {
     "data": {
      "text/plain": [
       "intubated           2643\n",
       "extubated            186\n",
       "early extubation       6\n",
       "Name: next_day_extubation_status, dtype: int64"
      ]
     },
     "execution_count": 109,
     "metadata": {},
     "output_type": "execute_result"
    }
   ],
   "source": [
    "use_df.next_day_extubation_status.value_counts()"
   ]
  },
  {
   "cell_type": "markdown",
   "id": "e90ec787-dbf5-4e4f-9c81-3508f3cf558b",
   "metadata": {},
   "source": [
    "## Format and save"
   ]
  },
  {
   "cell_type": "code",
   "execution_count": 110,
   "id": "ac5348ad-e44f-4054-808f-ce07f658f13b",
   "metadata": {},
   "outputs": [],
   "source": [
    "format = pd.read_csv(format_path,index_col=0)"
   ]
  },
  {
   "cell_type": "code",
   "execution_count": 111,
   "id": "57a53dae-7454-4e6a-88d9-07ef325c3121",
   "metadata": {},
   "outputs": [
    {
     "name": "stdout",
     "output_type": "stream",
     "text": [
      "Norepinephrine_flag\n",
      "old_extubation_status\n",
      "Patient_id\n",
      "patient\n",
      "trach_collar_status\n"
     ]
    }
   ],
   "source": [
    "fill_cols = []\n",
    "for col in format.columns:\n",
    "    if col not in filtered_df.columns:\n",
    "        print(col)\n",
    "        fill_cols.append(col)"
   ]
  },
  {
   "cell_type": "code",
   "execution_count": 112,
   "id": "b0b37f31-5740-428e-a53e-06f4a43f2f67",
   "metadata": {},
   "outputs": [],
   "source": [
    "junk_cols = [x for x in filtered_df.columns if x.startswith('Unnamed: 0')]"
   ]
  },
  {
   "cell_type": "code",
   "execution_count": 113,
   "id": "2c57d154-4581-457a-b194-3cd8e3be451a",
   "metadata": {},
   "outputs": [
    {
     "name": "stdout",
     "output_type": "stream",
     "text": [
      "ir_id\n",
      "visit_key\n",
      "icu_stay_start_datetime\n",
      "icu_stay_stop_datetime\n",
      "day_bucket_starts\n",
      "day_bucket_ends\n",
      "SOFA_score\n",
      "Mean_arterial_pressure\n",
      "PaO2FIO2_ratio\n",
      "patient_calendar_day\n",
      "death_date\n",
      "trach_received\n"
     ]
    }
   ],
   "source": [
    "drop_cols = []\n",
    "for col in filtered_df.columns:\n",
    "    if col not in format.columns and col not in junk_cols and col != 'Minute_Ventilation':\n",
    "        print(col)\n",
    "        drop_cols.append(col)"
   ]
  },
  {
   "cell_type": "code",
   "execution_count": 115,
   "id": "0d976b8d-24d6-465a-853a-8a50181901b3",
   "metadata": {},
   "outputs": [],
   "source": [
    "df_dict = {\n",
    "    'full':use_df,\n",
    "    'train':train_df,\n",
    "    'val':val_df,\n",
    "    'test':test_df,\n",
    "    'fail':fail_df,\n",
    "    'trach':trach_df\n",
    "}"
   ]
  },
  {
   "cell_type": "code",
   "execution_count": 116,
   "id": "656c6705-cda4-4014-a8d2-89023c9a5392",
   "metadata": {},
   "outputs": [],
   "source": [
    "for ds in df_dict.keys():\n",
    "    df = df_dict[ds]\n",
    "    df = df.drop(columns=junk_cols)\n",
    "    for col in fill_cols:\n",
    "        df[col] = ''\n",
    "    df.to_csv(f\"{outdir}/{ds}_additional_data.csv\")\n",
    "    df = df.drop(columns=drop_cols)\n",
    "    df = df[format.columns]\n",
    "    df.to_csv(f\"{outdir}/{ds}.csv\")"
   ]
  },
  {
   "cell_type": "markdown",
   "id": "5fb04f99-fdfa-499b-974f-19f5bf672920",
   "metadata": {},
   "source": [
    "## Fix columns"
   ]
  },
  {
   "cell_type": "code",
   "execution_count": 4,
   "id": "f1f50db5-1560-4bd8-9ba7-87724611eba6",
   "metadata": {},
   "outputs": [],
   "source": [
    "DATA_DIR = '../../../CarpeDiem Extubation Prediction Sam Alec/data'\n",
    "EDW_DIR = f\"{DATA_DIR}/edw_redacted\"\n",
    "CDH_DIR = f\"{DATA_DIR}/cdh_redacted\""
   ]
  },
  {
   "cell_type": "code",
   "execution_count": 5,
   "id": "78fc6045-764b-464e-82bd-9433a87d84c3",
   "metadata": {},
   "outputs": [],
   "source": [
    "auto_train = pd.read_csv(f'{EDW_DIR}/train.csv',index_col=0)\n",
    "auto_val = pd.read_csv(f'{EDW_DIR}/val.csv',index_col=0)\n",
    "auto_test = pd.read_csv(f'{EDW_DIR}/test.csv',index_col=0)\n",
    "auto_fail = pd.read_csv(f'{EDW_DIR}/fail.csv',index_col=0)"
   ]
  },
  {
   "cell_type": "code",
   "execution_count": 6,
   "id": "1636af95-c9f1-4179-8533-4db0aa76bf71",
   "metadata": {},
   "outputs": [],
   "source": [
    "cdh_full = pd.read_csv(f'{CDH_DIR}/full.csv',index_col=0)\n",
    "cdh_trach = pd.read_csv(f'{CDH_DIR}/trach.csv',index_col=0)\n",
    "cdh_fail = pd.read_csv(f'{CDH_DIR}/fail.csv',index_col=0)"
   ]
  },
  {
   "cell_type": "code",
   "execution_count": 7,
   "id": "1fe062d9-ce9e-469d-af65-7f11c9992f0f",
   "metadata": {},
   "outputs": [
    {
     "data": {
      "text/plain": [
       "True"
      ]
     },
     "execution_count": 7,
     "metadata": {},
     "output_type": "execute_result"
    }
   ],
   "source": [
    "np.all(auto_train.columns == auto_test.columns)"
   ]
  },
  {
   "cell_type": "code",
   "execution_count": 13,
   "id": "bd369a04-07ea-40a1-a5c6-5c18184f3631",
   "metadata": {},
   "outputs": [
    {
     "data": {
      "text/plain": [
       "True"
      ]
     },
     "execution_count": 13,
     "metadata": {},
     "output_type": "execute_result"
    }
   ],
   "source": [
    "len(auto_train.columns) == len(cdh_full.columns)"
   ]
  },
  {
   "cell_type": "markdown",
   "id": "c00802d5-f2ce-47b8-8403-c7c5b0e44f10",
   "metadata": {},
   "source": [
    "Column order must've been formatted wrong"
   ]
  },
  {
   "cell_type": "code",
   "execution_count": 16,
   "id": "a8ab6404-4dd1-498f-bf0a-544966de7f6b",
   "metadata": {},
   "outputs": [
    {
     "data": {
      "text/plain": [
       "True"
      ]
     },
     "execution_count": 16,
     "metadata": {},
     "output_type": "execute_result"
    }
   ],
   "source": [
    "np.all(cdh_full[auto_train.columns].columns == auto_train.columns)"
   ]
  },
  {
   "cell_type": "code",
   "execution_count": 17,
   "id": "cc7bb38a-064b-4cc9-bc77-9faa42514934",
   "metadata": {},
   "outputs": [],
   "source": [
    "cdh_full[auto_train.columns].to_csv(f'{CDH_DIR}/full.csv')\n",
    "cdh_trach[auto_train.columns].to_csv(f'{CDH_DIR}/trach.csv')\n",
    "cdh_fail[auto_train.columns].to_csv(f'{CDH_DIR}/fail.csv')"
   ]
  },
  {
   "cell_type": "code",
   "execution_count": null,
   "id": "55d0d707-45a3-4215-a6ef-ae3b1351d8d4",
   "metadata": {},
   "outputs": [],
   "source": []
  }
 ],
 "metadata": {
  "kernelspec": {
   "display_name": "x2b8_venv",
   "language": "python",
   "name": "x2b8_venv"
  },
  "language_info": {
   "codemirror_mode": {
    "name": "ipython",
    "version": 3
   },
   "file_extension": ".py",
   "mimetype": "text/x-python",
   "name": "python",
   "nbconvert_exporter": "python",
   "pygments_lexer": "ipython3",
   "version": "3.10.6"
  }
 },
 "nbformat": 4,
 "nbformat_minor": 5
}
